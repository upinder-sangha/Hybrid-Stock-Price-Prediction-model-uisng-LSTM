{
  "nbformat": 4,
  "nbformat_minor": 0,
  "metadata": {
    "colab": {
      "name": "AmazonStockPricePredictionLSTM 2.ipynb",
      "provenance": [],
      "collapsed_sections": [],
      "authorship_tag": "ABX9TyP1/A0zbeQVA4zMJ8Bh1ovv",
      "include_colab_link": true
    },
    "kernelspec": {
      "display_name": "Python 3",
      "name": "python3"
    },
    "language_info": {
      "name": "python"
    },
    "accelerator": "GPU"
  },
  "cells": [
    {
      "cell_type": "markdown",
      "metadata": {
        "id": "view-in-github",
        "colab_type": "text"
      },
      "source": [
        "<a href=\"https://colab.research.google.com/github/upinder-sangha/Hybrid-Stock-Price-Prediction-model-uisng-LSTM/blob/main/AmazonStockPricePredictionLSTM_2.ipynb\" target=\"_parent\"><img src=\"https://colab.research.google.com/assets/colab-badge.svg\" alt=\"Open In Colab\"/></a>"
      ]
    },
    {
      "cell_type": "markdown",
      "metadata": {
        "id": "LBqo9yHQaBV9"
      },
      "source": [
        "## Importing the libraries\n"
      ]
    },
    {
      "cell_type": "code",
      "metadata": {
        "colab": {
          "base_uri": "https://localhost:8080/"
        },
        "id": "Mz05I6fpWygQ",
        "outputId": "2e94d935-6180-4e01-f7ed-b43682054701"
      },
      "source": [
        "import numpy as np\n",
        "import pandas as pd\n",
        "\n",
        "import matplotlib.pyplot as plt\n",
        "%matplotlib inline\n",
        "\n",
        "from sklearn.preprocessing import MinMaxScaler\n",
        "\n",
        "import nltk\n",
        "nltk.download('vader_lexicon')\n",
        "from nltk.classify import NaiveBayesClassifier\n",
        "from nltk.corpus import subjectivity\n",
        "from nltk.sentiment import SentimentAnalyzer\n",
        "from nltk.sentiment.util import *"
      ],
      "execution_count": 1,
      "outputs": [
        {
          "output_type": "stream",
          "text": [
            "[nltk_data] Downloading package vader_lexicon to /root/nltk_data...\n"
          ],
          "name": "stdout"
        },
        {
          "output_type": "stream",
          "text": [
            "/usr/local/lib/python3.7/dist-packages/nltk/twitter/__init__.py:20: UserWarning: The twython library has not been installed. Some functionality from the twitter package will not be available.\n",
            "  warnings.warn(\"The twython library has not been installed. \"\n"
          ],
          "name": "stderr"
        }
      ]
    },
    {
      "cell_type": "markdown",
      "metadata": {
        "id": "LzZDNfxeaNat"
      },
      "source": [
        "## Importing dataset from kaggle"
      ]
    },
    {
      "cell_type": "code",
      "metadata": {
        "colab": {
          "base_uri": "https://localhost:8080/"
        },
        "id": "5thE3vNEXmX3",
        "outputId": "18cba11a-747b-4648-e285-5d56982a0690"
      },
      "source": [
        "!pip install kaggle"
      ],
      "execution_count": 2,
      "outputs": [
        {
          "output_type": "stream",
          "text": [
            "Requirement already satisfied: kaggle in /usr/local/lib/python3.7/dist-packages (1.5.12)\n",
            "Requirement already satisfied: python-slugify in /usr/local/lib/python3.7/dist-packages (from kaggle) (5.0.2)\n",
            "Requirement already satisfied: urllib3 in /usr/local/lib/python3.7/dist-packages (from kaggle) (1.24.3)\n",
            "Requirement already satisfied: six>=1.10 in /usr/local/lib/python3.7/dist-packages (from kaggle) (1.15.0)\n",
            "Requirement already satisfied: requests in /usr/local/lib/python3.7/dist-packages (from kaggle) (2.23.0)\n",
            "Requirement already satisfied: tqdm in /usr/local/lib/python3.7/dist-packages (from kaggle) (4.41.1)\n",
            "Requirement already satisfied: certifi in /usr/local/lib/python3.7/dist-packages (from kaggle) (2020.12.5)\n",
            "Requirement already satisfied: python-dateutil in /usr/local/lib/python3.7/dist-packages (from kaggle) (2.8.1)\n",
            "Requirement already satisfied: text-unidecode>=1.3 in /usr/local/lib/python3.7/dist-packages (from python-slugify->kaggle) (1.3)\n",
            "Requirement already satisfied: chardet<4,>=3.0.2 in /usr/local/lib/python3.7/dist-packages (from requests->kaggle) (3.0.4)\n",
            "Requirement already satisfied: idna<3,>=2.5 in /usr/local/lib/python3.7/dist-packages (from requests->kaggle) (2.10)\n"
          ],
          "name": "stdout"
        }
      ]
    },
    {
      "cell_type": "code",
      "metadata": {
        "colab": {
          "resources": {
            "http://localhost:8080/nbextensions/google.colab/files.js": {
              "data": "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",
              "ok": true,
              "headers": [
                [
                  "content-type",
                  "application/javascript"
                ]
              ],
              "status": 200,
              "status_text": ""
            }
          },
          "base_uri": "https://localhost:8080/",
          "height": 91
        },
        "id": "p7kzY9FEZwa1",
        "outputId": "23549516-4d68-4e50-9334-e4336e1802ad"
      },
      "source": [
        "from google.colab import files\n",
        "files.upload()"
      ],
      "execution_count": 3,
      "outputs": [
        {
          "output_type": "display_data",
          "data": {
            "text/html": [
              "\n",
              "     <input type=\"file\" id=\"files-348ec497-0ee3-48b0-998a-8b83e5fa50e3\" name=\"files[]\" multiple disabled\n",
              "        style=\"border:none\" />\n",
              "     <output id=\"result-348ec497-0ee3-48b0-998a-8b83e5fa50e3\">\n",
              "      Upload widget is only available when the cell has been executed in the\n",
              "      current browser session. Please rerun this cell to enable.\n",
              "      </output>\n",
              "      <script src=\"/nbextensions/google.colab/files.js\"></script> "
            ],
            "text/plain": [
              "<IPython.core.display.HTML object>"
            ]
          },
          "metadata": {
            "tags": []
          }
        },
        {
          "output_type": "stream",
          "text": [
            "Saving kaggle.json to kaggle.json\n"
          ],
          "name": "stdout"
        },
        {
          "output_type": "execute_result",
          "data": {
            "text/plain": [
              "{'kaggle.json': b'{\"username\":\"upindersinghsangha\",\"key\":\"706eb39333cbce6613dcce7e08c14548\"}'}"
            ]
          },
          "metadata": {
            "tags": []
          },
          "execution_count": 3
        }
      ]
    },
    {
      "cell_type": "code",
      "metadata": {
        "id": "IW0c5Cp4ZyKC"
      },
      "source": [
        "!mkdir ~/.kaggle\n",
        "!cp kaggle.json ~/.kaggle/"
      ],
      "execution_count": 4,
      "outputs": []
    },
    {
      "cell_type": "code",
      "metadata": {
        "id": "ZwLaaA5SafM1"
      },
      "source": [
        "!chmod 600 ~/.kaggle/kaggle.json"
      ],
      "execution_count": 5,
      "outputs": []
    },
    {
      "cell_type": "code",
      "metadata": {
        "colab": {
          "base_uri": "https://localhost:8080/"
        },
        "id": "zWC3H2YTWLvs",
        "outputId": "afe8af95-3cf7-4268-bb02-e4e58678bef3"
      },
      "source": [
        "!kaggle datasets download -d omermetinn/values-of-top-nasdaq-copanies-from-2010-to-2020"
      ],
      "execution_count": 6,
      "outputs": [
        {
          "output_type": "stream",
          "text": [
            "Downloading values-of-top-nasdaq-copanies-from-2010-to-2020.zip to /content\n",
            "\r  0% 0.00/299k [00:00<?, ?B/s]\n",
            "\r100% 299k/299k [00:00<00:00, 44.6MB/s]\n"
          ],
          "name": "stdout"
        }
      ]
    },
    {
      "cell_type": "code",
      "metadata": {
        "colab": {
          "base_uri": "https://localhost:8080/"
        },
        "id": "tHjyQxNwnmZ2",
        "outputId": "bfdd9bfa-6a52-4661-9d85-f0d9ee2928b8"
      },
      "source": [
        "!kaggle datasets download -d omermetinn/tweets-about-the-top-companies-from-2015-to-2020"
      ],
      "execution_count": 7,
      "outputs": [
        {
          "output_type": "stream",
          "text": [
            "Downloading tweets-about-the-top-companies-from-2015-to-2020.zip to /content\n",
            " 98% 273M/278M [00:03<00:00, 72.0MB/s]\n",
            "100% 278M/278M [00:03<00:00, 82.7MB/s]\n"
          ],
          "name": "stdout"
        }
      ]
    },
    {
      "cell_type": "code",
      "metadata": {
        "colab": {
          "base_uri": "https://localhost:8080/"
        },
        "id": "-0T9j9Z2bEC5",
        "outputId": "27dfe398-2be4-431b-ef39-2b1660155beb"
      },
      "source": [
        "#unzipping the zip files and deleting the zip files\n",
        "!unzip \\*.zip  && rm *.zip"
      ],
      "execution_count": 8,
      "outputs": [
        {
          "output_type": "stream",
          "text": [
            "Archive:  tweets-about-the-top-companies-from-2015-to-2020.zip\n",
            "  inflating: Company.csv             \n",
            "  inflating: Company_Tweet.csv       \n",
            "  inflating: Tweet.csv               \n",
            "\n",
            "Archive:  values-of-top-nasdaq-copanies-from-2010-to-2020.zip\n",
            "replace Company.csv? [y]es, [n]o, [A]ll, [N]one, [r]ename: n\n",
            "  inflating: CompanyValues.csv       \n",
            "\n",
            "2 archives were successfully processed.\n"
          ],
          "name": "stdout"
        }
      ]
    },
    {
      "cell_type": "markdown",
      "metadata": {
        "id": "wO_RRyfmaW4Y"
      },
      "source": [
        "## Reading the datasets"
      ]
    },
    {
      "cell_type": "code",
      "metadata": {
        "id": "8yFuiZdsbOY-"
      },
      "source": [
        "companies = pd.read_csv(\"Company.csv\")\n",
        "company_values = pd.read_csv(\"CompanyValues.csv\")\n",
        "tweet_company = pd.read_csv(\"Company_Tweet.csv\")\n",
        "tweets = pd.read_csv(\"Tweet.csv\")"
      ],
      "execution_count": 9,
      "outputs": []
    },
    {
      "cell_type": "code",
      "metadata": {
        "colab": {
          "base_uri": "https://localhost:8080/",
          "height": 417
        },
        "id": "DFy6_Ex2baJe",
        "outputId": "eb0927d6-91b1-4cc0-9a6a-fe04610ac398"
      },
      "source": [
        "company_values"
      ],
      "execution_count": 10,
      "outputs": [
        {
          "output_type": "execute_result",
          "data": {
            "text/html": [
              "<div>\n",
              "<style scoped>\n",
              "    .dataframe tbody tr th:only-of-type {\n",
              "        vertical-align: middle;\n",
              "    }\n",
              "\n",
              "    .dataframe tbody tr th {\n",
              "        vertical-align: top;\n",
              "    }\n",
              "\n",
              "    .dataframe thead th {\n",
              "        text-align: right;\n",
              "    }\n",
              "</style>\n",
              "<table border=\"1\" class=\"dataframe\">\n",
              "  <thead>\n",
              "    <tr style=\"text-align: right;\">\n",
              "      <th></th>\n",
              "      <th>ticker_symbol</th>\n",
              "      <th>day_date</th>\n",
              "      <th>close_value</th>\n",
              "      <th>volume</th>\n",
              "      <th>open_value</th>\n",
              "      <th>high_value</th>\n",
              "      <th>low_value</th>\n",
              "    </tr>\n",
              "  </thead>\n",
              "  <tbody>\n",
              "    <tr>\n",
              "      <th>0</th>\n",
              "      <td>AAPL</td>\n",
              "      <td>2020-05-29</td>\n",
              "      <td>317.94</td>\n",
              "      <td>38399530</td>\n",
              "      <td>319.25</td>\n",
              "      <td>321.15</td>\n",
              "      <td>316.4700</td>\n",
              "    </tr>\n",
              "    <tr>\n",
              "      <th>1</th>\n",
              "      <td>AAPL</td>\n",
              "      <td>2020-05-28</td>\n",
              "      <td>318.25</td>\n",
              "      <td>33449100</td>\n",
              "      <td>316.77</td>\n",
              "      <td>323.44</td>\n",
              "      <td>315.6300</td>\n",
              "    </tr>\n",
              "    <tr>\n",
              "      <th>2</th>\n",
              "      <td>AAPL</td>\n",
              "      <td>2020-05-27</td>\n",
              "      <td>318.11</td>\n",
              "      <td>28236270</td>\n",
              "      <td>316.14</td>\n",
              "      <td>318.71</td>\n",
              "      <td>313.0900</td>\n",
              "    </tr>\n",
              "    <tr>\n",
              "      <th>3</th>\n",
              "      <td>AAPL</td>\n",
              "      <td>2020-05-26</td>\n",
              "      <td>316.73</td>\n",
              "      <td>31380450</td>\n",
              "      <td>323.50</td>\n",
              "      <td>324.24</td>\n",
              "      <td>316.5000</td>\n",
              "    </tr>\n",
              "    <tr>\n",
              "      <th>4</th>\n",
              "      <td>AAPL</td>\n",
              "      <td>2020-05-22</td>\n",
              "      <td>318.89</td>\n",
              "      <td>20450750</td>\n",
              "      <td>315.77</td>\n",
              "      <td>319.23</td>\n",
              "      <td>315.3500</td>\n",
              "    </tr>\n",
              "    <tr>\n",
              "      <th>...</th>\n",
              "      <td>...</td>\n",
              "      <td>...</td>\n",
              "      <td>...</td>\n",
              "      <td>...</td>\n",
              "      <td>...</td>\n",
              "      <td>...</td>\n",
              "      <td>...</td>\n",
              "    </tr>\n",
              "    <tr>\n",
              "      <th>17523</th>\n",
              "      <td>TSLA</td>\n",
              "      <td>2019-12-21</td>\n",
              "      <td>405.59</td>\n",
              "      <td>14785210</td>\n",
              "      <td>410.29</td>\n",
              "      <td>413.00</td>\n",
              "      <td>400.1850</td>\n",
              "    </tr>\n",
              "    <tr>\n",
              "      <th>17524</th>\n",
              "      <td>TSLA</td>\n",
              "      <td>2019-12-22</td>\n",
              "      <td>405.59</td>\n",
              "      <td>14785210</td>\n",
              "      <td>410.29</td>\n",
              "      <td>413.00</td>\n",
              "      <td>400.1850</td>\n",
              "    </tr>\n",
              "    <tr>\n",
              "      <th>17525</th>\n",
              "      <td>TSLA</td>\n",
              "      <td>2019-12-25</td>\n",
              "      <td>425.25</td>\n",
              "      <td>8054720</td>\n",
              "      <td>418.36</td>\n",
              "      <td>425.47</td>\n",
              "      <td>412.6875</td>\n",
              "    </tr>\n",
              "    <tr>\n",
              "      <th>17526</th>\n",
              "      <td>TSLA</td>\n",
              "      <td>2019-12-28</td>\n",
              "      <td>430.38</td>\n",
              "      <td>9956827</td>\n",
              "      <td>435.00</td>\n",
              "      <td>435.31</td>\n",
              "      <td>426.1100</td>\n",
              "    </tr>\n",
              "    <tr>\n",
              "      <th>17527</th>\n",
              "      <td>TSLA</td>\n",
              "      <td>2019-12-29</td>\n",
              "      <td>430.38</td>\n",
              "      <td>9956827</td>\n",
              "      <td>435.00</td>\n",
              "      <td>435.31</td>\n",
              "      <td>426.1100</td>\n",
              "    </tr>\n",
              "  </tbody>\n",
              "</table>\n",
              "<p>17528 rows × 7 columns</p>\n",
              "</div>"
            ],
            "text/plain": [
              "      ticker_symbol    day_date  close_value  ...  open_value  high_value  low_value\n",
              "0              AAPL  2020-05-29       317.94  ...      319.25      321.15   316.4700\n",
              "1              AAPL  2020-05-28       318.25  ...      316.77      323.44   315.6300\n",
              "2              AAPL  2020-05-27       318.11  ...      316.14      318.71   313.0900\n",
              "3              AAPL  2020-05-26       316.73  ...      323.50      324.24   316.5000\n",
              "4              AAPL  2020-05-22       318.89  ...      315.77      319.23   315.3500\n",
              "...             ...         ...          ...  ...         ...         ...        ...\n",
              "17523          TSLA  2019-12-21       405.59  ...      410.29      413.00   400.1850\n",
              "17524          TSLA  2019-12-22       405.59  ...      410.29      413.00   400.1850\n",
              "17525          TSLA  2019-12-25       425.25  ...      418.36      425.47   412.6875\n",
              "17526          TSLA  2019-12-28       430.38  ...      435.00      435.31   426.1100\n",
              "17527          TSLA  2019-12-29       430.38  ...      435.00      435.31   426.1100\n",
              "\n",
              "[17528 rows x 7 columns]"
            ]
          },
          "metadata": {
            "tags": []
          },
          "execution_count": 10
        }
      ]
    },
    {
      "cell_type": "code",
      "metadata": {
        "colab": {
          "base_uri": "https://localhost:8080/",
          "height": 417
        },
        "id": "TgRKlOCqpM7j",
        "outputId": "8f38b4ba-b77c-489a-9065-842013c3a66a"
      },
      "source": [
        "tweet_company"
      ],
      "execution_count": 11,
      "outputs": [
        {
          "output_type": "execute_result",
          "data": {
            "text/html": [
              "<div>\n",
              "<style scoped>\n",
              "    .dataframe tbody tr th:only-of-type {\n",
              "        vertical-align: middle;\n",
              "    }\n",
              "\n",
              "    .dataframe tbody tr th {\n",
              "        vertical-align: top;\n",
              "    }\n",
              "\n",
              "    .dataframe thead th {\n",
              "        text-align: right;\n",
              "    }\n",
              "</style>\n",
              "<table border=\"1\" class=\"dataframe\">\n",
              "  <thead>\n",
              "    <tr style=\"text-align: right;\">\n",
              "      <th></th>\n",
              "      <th>tweet_id</th>\n",
              "      <th>ticker_symbol</th>\n",
              "    </tr>\n",
              "  </thead>\n",
              "  <tbody>\n",
              "    <tr>\n",
              "      <th>0</th>\n",
              "      <td>550803612197457920</td>\n",
              "      <td>AAPL</td>\n",
              "    </tr>\n",
              "    <tr>\n",
              "      <th>1</th>\n",
              "      <td>550803610825928706</td>\n",
              "      <td>AAPL</td>\n",
              "    </tr>\n",
              "    <tr>\n",
              "      <th>2</th>\n",
              "      <td>550803225113157632</td>\n",
              "      <td>AAPL</td>\n",
              "    </tr>\n",
              "    <tr>\n",
              "      <th>3</th>\n",
              "      <td>550802957370159104</td>\n",
              "      <td>AAPL</td>\n",
              "    </tr>\n",
              "    <tr>\n",
              "      <th>4</th>\n",
              "      <td>550802855129382912</td>\n",
              "      <td>AAPL</td>\n",
              "    </tr>\n",
              "    <tr>\n",
              "      <th>...</th>\n",
              "      <td>...</td>\n",
              "      <td>...</td>\n",
              "    </tr>\n",
              "    <tr>\n",
              "      <th>4336440</th>\n",
              "      <td>1212158772015034369</td>\n",
              "      <td>TSLA</td>\n",
              "    </tr>\n",
              "    <tr>\n",
              "      <th>4336441</th>\n",
              "      <td>1212159099632267268</td>\n",
              "      <td>TSLA</td>\n",
              "    </tr>\n",
              "    <tr>\n",
              "      <th>4336442</th>\n",
              "      <td>1212159184931717120</td>\n",
              "      <td>TSLA</td>\n",
              "    </tr>\n",
              "    <tr>\n",
              "      <th>4336443</th>\n",
              "      <td>1212159838882533376</td>\n",
              "      <td>TSLA</td>\n",
              "    </tr>\n",
              "    <tr>\n",
              "      <th>4336444</th>\n",
              "      <td>1212160015332728833</td>\n",
              "      <td>TSLA</td>\n",
              "    </tr>\n",
              "  </tbody>\n",
              "</table>\n",
              "<p>4336445 rows × 2 columns</p>\n",
              "</div>"
            ],
            "text/plain": [
              "                    tweet_id ticker_symbol\n",
              "0         550803612197457920          AAPL\n",
              "1         550803610825928706          AAPL\n",
              "2         550803225113157632          AAPL\n",
              "3         550802957370159104          AAPL\n",
              "4         550802855129382912          AAPL\n",
              "...                      ...           ...\n",
              "4336440  1212158772015034369          TSLA\n",
              "4336441  1212159099632267268          TSLA\n",
              "4336442  1212159184931717120          TSLA\n",
              "4336443  1212159838882533376          TSLA\n",
              "4336444  1212160015332728833          TSLA\n",
              "\n",
              "[4336445 rows x 2 columns]"
            ]
          },
          "metadata": {
            "tags": []
          },
          "execution_count": 11
        }
      ]
    },
    {
      "cell_type": "code",
      "metadata": {
        "colab": {
          "base_uri": "https://localhost:8080/",
          "height": 417
        },
        "id": "ES9l8Zz4pQp4",
        "outputId": "e318e5b3-4132-46f9-88cd-a125b404f2be"
      },
      "source": [
        "tweets"
      ],
      "execution_count": 12,
      "outputs": [
        {
          "output_type": "execute_result",
          "data": {
            "text/html": [
              "<div>\n",
              "<style scoped>\n",
              "    .dataframe tbody tr th:only-of-type {\n",
              "        vertical-align: middle;\n",
              "    }\n",
              "\n",
              "    .dataframe tbody tr th {\n",
              "        vertical-align: top;\n",
              "    }\n",
              "\n",
              "    .dataframe thead th {\n",
              "        text-align: right;\n",
              "    }\n",
              "</style>\n",
              "<table border=\"1\" class=\"dataframe\">\n",
              "  <thead>\n",
              "    <tr style=\"text-align: right;\">\n",
              "      <th></th>\n",
              "      <th>tweet_id</th>\n",
              "      <th>writer</th>\n",
              "      <th>post_date</th>\n",
              "      <th>body</th>\n",
              "      <th>comment_num</th>\n",
              "      <th>retweet_num</th>\n",
              "      <th>like_num</th>\n",
              "    </tr>\n",
              "  </thead>\n",
              "  <tbody>\n",
              "    <tr>\n",
              "      <th>0</th>\n",
              "      <td>550441509175443456</td>\n",
              "      <td>VisualStockRSRC</td>\n",
              "      <td>1420070457</td>\n",
              "      <td>lx21 made $10,008  on $AAPL -Check it out! htt...</td>\n",
              "      <td>0</td>\n",
              "      <td>0</td>\n",
              "      <td>1</td>\n",
              "    </tr>\n",
              "    <tr>\n",
              "      <th>1</th>\n",
              "      <td>550441672312512512</td>\n",
              "      <td>KeralaGuy77</td>\n",
              "      <td>1420070496</td>\n",
              "      <td>Insanity of today weirdo massive selling. $aap...</td>\n",
              "      <td>0</td>\n",
              "      <td>0</td>\n",
              "      <td>0</td>\n",
              "    </tr>\n",
              "    <tr>\n",
              "      <th>2</th>\n",
              "      <td>550441732014223360</td>\n",
              "      <td>DozenStocks</td>\n",
              "      <td>1420070510</td>\n",
              "      <td>S&amp;P100 #Stocks Performance $HD $LOW $SBUX $TGT...</td>\n",
              "      <td>0</td>\n",
              "      <td>0</td>\n",
              "      <td>0</td>\n",
              "    </tr>\n",
              "    <tr>\n",
              "      <th>3</th>\n",
              "      <td>550442977802207232</td>\n",
              "      <td>ShowDreamCar</td>\n",
              "      <td>1420070807</td>\n",
              "      <td>$GM $TSLA: Volkswagen Pushes 2014 Record Recal...</td>\n",
              "      <td>0</td>\n",
              "      <td>0</td>\n",
              "      <td>1</td>\n",
              "    </tr>\n",
              "    <tr>\n",
              "      <th>4</th>\n",
              "      <td>550443807834402816</td>\n",
              "      <td>i_Know_First</td>\n",
              "      <td>1420071005</td>\n",
              "      <td>Swing Trading: Up To 8.91% Return In 14 Days h...</td>\n",
              "      <td>0</td>\n",
              "      <td>0</td>\n",
              "      <td>1</td>\n",
              "    </tr>\n",
              "    <tr>\n",
              "      <th>...</th>\n",
              "      <td>...</td>\n",
              "      <td>...</td>\n",
              "      <td>...</td>\n",
              "      <td>...</td>\n",
              "      <td>...</td>\n",
              "      <td>...</td>\n",
              "      <td>...</td>\n",
              "    </tr>\n",
              "    <tr>\n",
              "      <th>3717959</th>\n",
              "      <td>1212159765914079234</td>\n",
              "      <td>TEEELAZER</td>\n",
              "      <td>1577836383</td>\n",
              "      <td>That $SPY $SPX puuump in the last hour was the...</td>\n",
              "      <td>1</td>\n",
              "      <td>0</td>\n",
              "      <td>6</td>\n",
              "    </tr>\n",
              "    <tr>\n",
              "      <th>3717960</th>\n",
              "      <td>1212159838882533376</td>\n",
              "      <td>ShortingIsFun</td>\n",
              "      <td>1577836401</td>\n",
              "      <td>In 2020 I may start Tweeting out positive news...</td>\n",
              "      <td>0</td>\n",
              "      <td>0</td>\n",
              "      <td>1</td>\n",
              "    </tr>\n",
              "    <tr>\n",
              "      <th>3717961</th>\n",
              "      <td>1212160015332728833</td>\n",
              "      <td>Commuternyc</td>\n",
              "      <td>1577836443</td>\n",
              "      <td>Patiently Waiting for the no twitter sitter tw...</td>\n",
              "      <td>0</td>\n",
              "      <td>0</td>\n",
              "      <td>5</td>\n",
              "    </tr>\n",
              "    <tr>\n",
              "      <th>3717962</th>\n",
              "      <td>1212160410692046849</td>\n",
              "      <td>MoriaCrypto</td>\n",
              "      <td>1577836537</td>\n",
              "      <td>I don't discriminate. I own both $aapl and $ms...</td>\n",
              "      <td>1</td>\n",
              "      <td>0</td>\n",
              "      <td>1</td>\n",
              "    </tr>\n",
              "    <tr>\n",
              "      <th>3717963</th>\n",
              "      <td>1212160477159206912</td>\n",
              "      <td>treabase</td>\n",
              "      <td>1577836553</td>\n",
              "      <td>$AAPL #patent 10,522,475 Vertical interconnect...</td>\n",
              "      <td>0</td>\n",
              "      <td>0</td>\n",
              "      <td>0</td>\n",
              "    </tr>\n",
              "  </tbody>\n",
              "</table>\n",
              "<p>3717964 rows × 7 columns</p>\n",
              "</div>"
            ],
            "text/plain": [
              "                    tweet_id           writer  ...  retweet_num like_num\n",
              "0         550441509175443456  VisualStockRSRC  ...            0        1\n",
              "1         550441672312512512      KeralaGuy77  ...            0        0\n",
              "2         550441732014223360      DozenStocks  ...            0        0\n",
              "3         550442977802207232     ShowDreamCar  ...            0        1\n",
              "4         550443807834402816     i_Know_First  ...            0        1\n",
              "...                      ...              ...  ...          ...      ...\n",
              "3717959  1212159765914079234        TEEELAZER  ...            0        6\n",
              "3717960  1212159838882533376    ShortingIsFun  ...            0        1\n",
              "3717961  1212160015332728833      Commuternyc  ...            0        5\n",
              "3717962  1212160410692046849      MoriaCrypto  ...            0        1\n",
              "3717963  1212160477159206912         treabase  ...            0        0\n",
              "\n",
              "[3717964 rows x 7 columns]"
            ]
          },
          "metadata": {
            "tags": []
          },
          "execution_count": 12
        }
      ]
    },
    {
      "cell_type": "markdown",
      "metadata": {
        "id": "kXF42kn-a982"
      },
      "source": [
        "## Preprocessing the tweets"
      ]
    },
    {
      "cell_type": "markdown",
      "metadata": {
        "id": "KfQRZngSbyIt"
      },
      "source": [
        "###merging the tweet company and the tweets dataset and extracting the tweets about amazon"
      ]
    },
    {
      "cell_type": "code",
      "metadata": {
        "id": "F47RXcgvpi4-",
        "colab": {
          "base_uri": "https://localhost:8080/",
          "height": 417
        },
        "outputId": "93f63028-db87-4cc7-cb0e-697ced4c0195"
      },
      "source": [
        "tweets = pd.merge(tweet_company, tweets, on='tweet_id', how='inner')\n",
        "amazon_tweets = tweets.loc[tweets['ticker_symbol'] == 'AMZN']\n",
        "amazon_tweets"
      ],
      "execution_count": 13,
      "outputs": [
        {
          "output_type": "execute_result",
          "data": {
            "text/html": [
              "<div>\n",
              "<style scoped>\n",
              "    .dataframe tbody tr th:only-of-type {\n",
              "        vertical-align: middle;\n",
              "    }\n",
              "\n",
              "    .dataframe tbody tr th {\n",
              "        vertical-align: top;\n",
              "    }\n",
              "\n",
              "    .dataframe thead th {\n",
              "        text-align: right;\n",
              "    }\n",
              "</style>\n",
              "<table border=\"1\" class=\"dataframe\">\n",
              "  <thead>\n",
              "    <tr style=\"text-align: right;\">\n",
              "      <th></th>\n",
              "      <th>tweet_id</th>\n",
              "      <th>ticker_symbol</th>\n",
              "      <th>writer</th>\n",
              "      <th>post_date</th>\n",
              "      <th>body</th>\n",
              "      <th>comment_num</th>\n",
              "      <th>retweet_num</th>\n",
              "      <th>like_num</th>\n",
              "    </tr>\n",
              "  </thead>\n",
              "  <tbody>\n",
              "    <tr>\n",
              "      <th>1</th>\n",
              "      <td>550803612197457920</td>\n",
              "      <td>AMZN</td>\n",
              "      <td>SentiQuant</td>\n",
              "      <td>1420156789</td>\n",
              "      <td>#TOPTICKERTWEETS $AAPL $IMRS $BABA $EBAY $AMZN...</td>\n",
              "      <td>0</td>\n",
              "      <td>0</td>\n",
              "      <td>1</td>\n",
              "    </tr>\n",
              "    <tr>\n",
              "      <th>4</th>\n",
              "      <td>550803610825928706</td>\n",
              "      <td>AMZN</td>\n",
              "      <td>SentiQuant</td>\n",
              "      <td>1420156788</td>\n",
              "      <td>#SENTISHIFTUP $K $FB $GOOGL $GS $GOLD $T $AAPL...</td>\n",
              "      <td>0</td>\n",
              "      <td>0</td>\n",
              "      <td>1</td>\n",
              "    </tr>\n",
              "    <tr>\n",
              "      <th>45</th>\n",
              "      <td>550780769497808896</td>\n",
              "      <td>AMZN</td>\n",
              "      <td>SharePlanner</td>\n",
              "      <td>1420151343</td>\n",
              "      <td>2014 Was A Great Year of Trading In The Splash...</td>\n",
              "      <td>1</td>\n",
              "      <td>0</td>\n",
              "      <td>1</td>\n",
              "    </tr>\n",
              "    <tr>\n",
              "      <th>58</th>\n",
              "      <td>550773410742403072</td>\n",
              "      <td>AMZN</td>\n",
              "      <td>SentiQuant</td>\n",
              "      <td>1420149588</td>\n",
              "      <td>#TOPTICKERTWEETS $IMRS $AAPL $BABA $EBAY $AMZN...</td>\n",
              "      <td>0</td>\n",
              "      <td>0</td>\n",
              "      <td>0</td>\n",
              "    </tr>\n",
              "    <tr>\n",
              "      <th>96</th>\n",
              "      <td>550743209971036161</td>\n",
              "      <td>AMZN</td>\n",
              "      <td>SentiQuant</td>\n",
              "      <td>1420142388</td>\n",
              "      <td>#TOPTICKERTWEETS $AAPL $BABA $EBAY $IMRS $AMZN...</td>\n",
              "      <td>0</td>\n",
              "      <td>0</td>\n",
              "      <td>1</td>\n",
              "    </tr>\n",
              "    <tr>\n",
              "      <th>...</th>\n",
              "      <td>...</td>\n",
              "      <td>...</td>\n",
              "      <td>...</td>\n",
              "      <td>...</td>\n",
              "      <td>...</td>\n",
              "      <td>...</td>\n",
              "      <td>...</td>\n",
              "      <td>...</td>\n",
              "    </tr>\n",
              "    <tr>\n",
              "      <th>3106227</th>\n",
              "      <td>1212153821515931650</td>\n",
              "      <td>AMZN</td>\n",
              "      <td>TopStockAlerts1</td>\n",
              "      <td>1577834966</td>\n",
              "      <td>$AMZN Amazon Stock Broke Out -- and Hesitated;...</td>\n",
              "      <td>0</td>\n",
              "      <td>0</td>\n",
              "      <td>0</td>\n",
              "    </tr>\n",
              "    <tr>\n",
              "      <th>3106228</th>\n",
              "      <td>1212154334600818689</td>\n",
              "      <td>AMZN</td>\n",
              "      <td>thequ4nt</td>\n",
              "      <td>1577835088</td>\n",
              "      <td>[Yahoo Finance Video - December 31, 2019] $AMZ...</td>\n",
              "      <td>0</td>\n",
              "      <td>1</td>\n",
              "      <td>1</td>\n",
              "    </tr>\n",
              "    <tr>\n",
              "      <th>3106229</th>\n",
              "      <td>1212155226377117697</td>\n",
              "      <td>AMZN</td>\n",
              "      <td>DentonBlackwell</td>\n",
              "      <td>1577835301</td>\n",
              "      <td>@Ryzenn $AAPL has to have a lights out ER to k...</td>\n",
              "      <td>0</td>\n",
              "      <td>0</td>\n",
              "      <td>1</td>\n",
              "    </tr>\n",
              "    <tr>\n",
              "      <th>3106230</th>\n",
              "      <td>1212156775178416128</td>\n",
              "      <td>AMZN</td>\n",
              "      <td>ITRADEVOL</td>\n",
              "      <td>1577835670</td>\n",
              "      <td>Is there a public database or website where I ...</td>\n",
              "      <td>0</td>\n",
              "      <td>0</td>\n",
              "      <td>2</td>\n",
              "    </tr>\n",
              "    <tr>\n",
              "      <th>3106231</th>\n",
              "      <td>1212157688089591808</td>\n",
              "      <td>AMZN</td>\n",
              "      <td>NaN</td>\n",
              "      <td>1577835888</td>\n",
              "      <td>When you compare the losses of a public corpor...</td>\n",
              "      <td>0</td>\n",
              "      <td>0</td>\n",
              "      <td>2</td>\n",
              "    </tr>\n",
              "  </tbody>\n",
              "</table>\n",
              "<p>718715 rows × 8 columns</p>\n",
              "</div>"
            ],
            "text/plain": [
              "                    tweet_id ticker_symbol  ... retweet_num  like_num\n",
              "1         550803612197457920          AMZN  ...           0         1\n",
              "4         550803610825928706          AMZN  ...           0         1\n",
              "45        550780769497808896          AMZN  ...           0         1\n",
              "58        550773410742403072          AMZN  ...           0         0\n",
              "96        550743209971036161          AMZN  ...           0         1\n",
              "...                      ...           ...  ...         ...       ...\n",
              "3106227  1212153821515931650          AMZN  ...           0         0\n",
              "3106228  1212154334600818689          AMZN  ...           1         1\n",
              "3106229  1212155226377117697          AMZN  ...           0         1\n",
              "3106230  1212156775178416128          AMZN  ...           0         2\n",
              "3106231  1212157688089591808          AMZN  ...           0         2\n",
              "\n",
              "[718715 rows x 8 columns]"
            ]
          },
          "metadata": {
            "tags": []
          },
          "execution_count": 13
        }
      ]
    },
    {
      "cell_type": "markdown",
      "metadata": {
        "id": "wFdn8aBRdfAp"
      },
      "source": [
        "### reset the index of the dataset"
      ]
    },
    {
      "cell_type": "code",
      "metadata": {
        "id": "WcyeKpsqw5o_"
      },
      "source": [
        "amazon_tweets.reset_index(inplace = True, drop = True)"
      ],
      "execution_count": 14,
      "outputs": []
    },
    {
      "cell_type": "markdown",
      "metadata": {
        "id": "BF37aPWye2Sm"
      },
      "source": [
        "###Converting the unix timestamp to actual date\n"
      ]
    },
    {
      "cell_type": "code",
      "metadata": {
        "id": "rpHdbePVqt3x",
        "colab": {
          "base_uri": "https://localhost:8080/",
          "height": 522
        },
        "outputId": "e06dd5d3-c0e9-4a5d-bb41-339b2beac14b"
      },
      "source": [
        "day_date = []\n",
        "from datetime import datetime\n",
        "for i in range(amazon_tweets.shape[0]):\n",
        "    day_date.append(datetime.utcfromtimestamp(amazon_tweets[\"post_date\"][i]).strftime('%Y-%m-%d'))\n",
        "\n",
        "amazon_tweets['day_date'] = day_date\n",
        "amazon_tweets"
      ],
      "execution_count": 15,
      "outputs": [
        {
          "output_type": "stream",
          "text": [
            "/usr/local/lib/python3.7/dist-packages/ipykernel_launcher.py:6: SettingWithCopyWarning: \n",
            "A value is trying to be set on a copy of a slice from a DataFrame.\n",
            "Try using .loc[row_indexer,col_indexer] = value instead\n",
            "\n",
            "See the caveats in the documentation: https://pandas.pydata.org/pandas-docs/stable/user_guide/indexing.html#returning-a-view-versus-a-copy\n",
            "  \n"
          ],
          "name": "stderr"
        },
        {
          "output_type": "execute_result",
          "data": {
            "text/html": [
              "<div>\n",
              "<style scoped>\n",
              "    .dataframe tbody tr th:only-of-type {\n",
              "        vertical-align: middle;\n",
              "    }\n",
              "\n",
              "    .dataframe tbody tr th {\n",
              "        vertical-align: top;\n",
              "    }\n",
              "\n",
              "    .dataframe thead th {\n",
              "        text-align: right;\n",
              "    }\n",
              "</style>\n",
              "<table border=\"1\" class=\"dataframe\">\n",
              "  <thead>\n",
              "    <tr style=\"text-align: right;\">\n",
              "      <th></th>\n",
              "      <th>tweet_id</th>\n",
              "      <th>ticker_symbol</th>\n",
              "      <th>writer</th>\n",
              "      <th>post_date</th>\n",
              "      <th>body</th>\n",
              "      <th>comment_num</th>\n",
              "      <th>retweet_num</th>\n",
              "      <th>like_num</th>\n",
              "      <th>day_date</th>\n",
              "    </tr>\n",
              "  </thead>\n",
              "  <tbody>\n",
              "    <tr>\n",
              "      <th>0</th>\n",
              "      <td>550803612197457920</td>\n",
              "      <td>AMZN</td>\n",
              "      <td>SentiQuant</td>\n",
              "      <td>1420156789</td>\n",
              "      <td>#TOPTICKERTWEETS $AAPL $IMRS $BABA $EBAY $AMZN...</td>\n",
              "      <td>0</td>\n",
              "      <td>0</td>\n",
              "      <td>1</td>\n",
              "      <td>2015-01-01</td>\n",
              "    </tr>\n",
              "    <tr>\n",
              "      <th>1</th>\n",
              "      <td>550803610825928706</td>\n",
              "      <td>AMZN</td>\n",
              "      <td>SentiQuant</td>\n",
              "      <td>1420156788</td>\n",
              "      <td>#SENTISHIFTUP $K $FB $GOOGL $GS $GOLD $T $AAPL...</td>\n",
              "      <td>0</td>\n",
              "      <td>0</td>\n",
              "      <td>1</td>\n",
              "      <td>2015-01-01</td>\n",
              "    </tr>\n",
              "    <tr>\n",
              "      <th>2</th>\n",
              "      <td>550780769497808896</td>\n",
              "      <td>AMZN</td>\n",
              "      <td>SharePlanner</td>\n",
              "      <td>1420151343</td>\n",
              "      <td>2014 Was A Great Year of Trading In The Splash...</td>\n",
              "      <td>1</td>\n",
              "      <td>0</td>\n",
              "      <td>1</td>\n",
              "      <td>2015-01-01</td>\n",
              "    </tr>\n",
              "    <tr>\n",
              "      <th>3</th>\n",
              "      <td>550773410742403072</td>\n",
              "      <td>AMZN</td>\n",
              "      <td>SentiQuant</td>\n",
              "      <td>1420149588</td>\n",
              "      <td>#TOPTICKERTWEETS $IMRS $AAPL $BABA $EBAY $AMZN...</td>\n",
              "      <td>0</td>\n",
              "      <td>0</td>\n",
              "      <td>0</td>\n",
              "      <td>2015-01-01</td>\n",
              "    </tr>\n",
              "    <tr>\n",
              "      <th>4</th>\n",
              "      <td>550743209971036161</td>\n",
              "      <td>AMZN</td>\n",
              "      <td>SentiQuant</td>\n",
              "      <td>1420142388</td>\n",
              "      <td>#TOPTICKERTWEETS $AAPL $BABA $EBAY $IMRS $AMZN...</td>\n",
              "      <td>0</td>\n",
              "      <td>0</td>\n",
              "      <td>1</td>\n",
              "      <td>2015-01-01</td>\n",
              "    </tr>\n",
              "    <tr>\n",
              "      <th>...</th>\n",
              "      <td>...</td>\n",
              "      <td>...</td>\n",
              "      <td>...</td>\n",
              "      <td>...</td>\n",
              "      <td>...</td>\n",
              "      <td>...</td>\n",
              "      <td>...</td>\n",
              "      <td>...</td>\n",
              "      <td>...</td>\n",
              "    </tr>\n",
              "    <tr>\n",
              "      <th>718710</th>\n",
              "      <td>1212153821515931650</td>\n",
              "      <td>AMZN</td>\n",
              "      <td>TopStockAlerts1</td>\n",
              "      <td>1577834966</td>\n",
              "      <td>$AMZN Amazon Stock Broke Out -- and Hesitated;...</td>\n",
              "      <td>0</td>\n",
              "      <td>0</td>\n",
              "      <td>0</td>\n",
              "      <td>2019-12-31</td>\n",
              "    </tr>\n",
              "    <tr>\n",
              "      <th>718711</th>\n",
              "      <td>1212154334600818689</td>\n",
              "      <td>AMZN</td>\n",
              "      <td>thequ4nt</td>\n",
              "      <td>1577835088</td>\n",
              "      <td>[Yahoo Finance Video - December 31, 2019] $AMZ...</td>\n",
              "      <td>0</td>\n",
              "      <td>1</td>\n",
              "      <td>1</td>\n",
              "      <td>2019-12-31</td>\n",
              "    </tr>\n",
              "    <tr>\n",
              "      <th>718712</th>\n",
              "      <td>1212155226377117697</td>\n",
              "      <td>AMZN</td>\n",
              "      <td>DentonBlackwell</td>\n",
              "      <td>1577835301</td>\n",
              "      <td>@Ryzenn $AAPL has to have a lights out ER to k...</td>\n",
              "      <td>0</td>\n",
              "      <td>0</td>\n",
              "      <td>1</td>\n",
              "      <td>2019-12-31</td>\n",
              "    </tr>\n",
              "    <tr>\n",
              "      <th>718713</th>\n",
              "      <td>1212156775178416128</td>\n",
              "      <td>AMZN</td>\n",
              "      <td>ITRADEVOL</td>\n",
              "      <td>1577835670</td>\n",
              "      <td>Is there a public database or website where I ...</td>\n",
              "      <td>0</td>\n",
              "      <td>0</td>\n",
              "      <td>2</td>\n",
              "      <td>2019-12-31</td>\n",
              "    </tr>\n",
              "    <tr>\n",
              "      <th>718714</th>\n",
              "      <td>1212157688089591808</td>\n",
              "      <td>AMZN</td>\n",
              "      <td>NaN</td>\n",
              "      <td>1577835888</td>\n",
              "      <td>When you compare the losses of a public corpor...</td>\n",
              "      <td>0</td>\n",
              "      <td>0</td>\n",
              "      <td>2</td>\n",
              "      <td>2019-12-31</td>\n",
              "    </tr>\n",
              "  </tbody>\n",
              "</table>\n",
              "<p>718715 rows × 9 columns</p>\n",
              "</div>"
            ],
            "text/plain": [
              "                   tweet_id ticker_symbol  ... like_num    day_date\n",
              "0        550803612197457920          AMZN  ...        1  2015-01-01\n",
              "1        550803610825928706          AMZN  ...        1  2015-01-01\n",
              "2        550780769497808896          AMZN  ...        1  2015-01-01\n",
              "3        550773410742403072          AMZN  ...        0  2015-01-01\n",
              "4        550743209971036161          AMZN  ...        1  2015-01-01\n",
              "...                     ...           ...  ...      ...         ...\n",
              "718710  1212153821515931650          AMZN  ...        0  2019-12-31\n",
              "718711  1212154334600818689          AMZN  ...        1  2019-12-31\n",
              "718712  1212155226377117697          AMZN  ...        1  2019-12-31\n",
              "718713  1212156775178416128          AMZN  ...        2  2019-12-31\n",
              "718714  1212157688089591808          AMZN  ...        2  2019-12-31\n",
              "\n",
              "[718715 rows x 9 columns]"
            ]
          },
          "metadata": {
            "tags": []
          },
          "execution_count": 15
        }
      ]
    },
    {
      "cell_type": "markdown",
      "metadata": {
        "id": "S6ccLNOxgDzS"
      },
      "source": [
        "### Filtering out some unpopular tweets."
      ]
    },
    {
      "cell_type": "code",
      "metadata": {
        "id": "Ta6bxKO26pli",
        "colab": {
          "base_uri": "https://localhost:8080/",
          "height": 417
        },
        "outputId": "c9f0f84e-ade8-44fb-c189-5e399ecd3a15"
      },
      "source": [
        "amazon_tweets_influential = amazon_tweets[amazon_tweets['like_num'] >1 ] \n",
        "amazon_tweets_influential"
      ],
      "execution_count": 16,
      "outputs": [
        {
          "output_type": "execute_result",
          "data": {
            "text/html": [
              "<div>\n",
              "<style scoped>\n",
              "    .dataframe tbody tr th:only-of-type {\n",
              "        vertical-align: middle;\n",
              "    }\n",
              "\n",
              "    .dataframe tbody tr th {\n",
              "        vertical-align: top;\n",
              "    }\n",
              "\n",
              "    .dataframe thead th {\n",
              "        text-align: right;\n",
              "    }\n",
              "</style>\n",
              "<table border=\"1\" class=\"dataframe\">\n",
              "  <thead>\n",
              "    <tr style=\"text-align: right;\">\n",
              "      <th></th>\n",
              "      <th>tweet_id</th>\n",
              "      <th>ticker_symbol</th>\n",
              "      <th>writer</th>\n",
              "      <th>post_date</th>\n",
              "      <th>body</th>\n",
              "      <th>comment_num</th>\n",
              "      <th>retweet_num</th>\n",
              "      <th>like_num</th>\n",
              "      <th>day_date</th>\n",
              "    </tr>\n",
              "  </thead>\n",
              "  <tbody>\n",
              "    <tr>\n",
              "      <th>5</th>\n",
              "      <td>550739393812508673</td>\n",
              "      <td>AMZN</td>\n",
              "      <td>laurenholmesNYC</td>\n",
              "      <td>1420141478</td>\n",
              "      <td>A Value Stock, Or Neither? $AAPL $AMZN $FB $GO...</td>\n",
              "      <td>0</td>\n",
              "      <td>0</td>\n",
              "      <td>2</td>\n",
              "      <td>2015-01-01</td>\n",
              "    </tr>\n",
              "    <tr>\n",
              "      <th>8</th>\n",
              "      <td>550705849690116096</td>\n",
              "      <td>AMZN</td>\n",
              "      <td>SwingTradeAlert</td>\n",
              "      <td>1420133480</td>\n",
              "      <td>IBD:2015 technology forecasts: Wearable techno...</td>\n",
              "      <td>0</td>\n",
              "      <td>0</td>\n",
              "      <td>3</td>\n",
              "      <td>2015-01-01</td>\n",
              "    </tr>\n",
              "    <tr>\n",
              "      <th>9</th>\n",
              "      <td>550704687469453314</td>\n",
              "      <td>AMZN</td>\n",
              "      <td>jjen_abel</td>\n",
              "      <td>1420133203</td>\n",
              "      <td>\"Safety used to mean gold, US treasuries, blue...</td>\n",
              "      <td>0</td>\n",
              "      <td>0</td>\n",
              "      <td>2</td>\n",
              "      <td>2015-01-01</td>\n",
              "    </tr>\n",
              "    <tr>\n",
              "      <th>10</th>\n",
              "      <td>550698244552925184</td>\n",
              "      <td>AMZN</td>\n",
              "      <td>NaN</td>\n",
              "      <td>1420131667</td>\n",
              "      <td>2015 technology forecasts: Wearable technology...</td>\n",
              "      <td>0</td>\n",
              "      <td>0</td>\n",
              "      <td>2</td>\n",
              "      <td>2015-01-01</td>\n",
              "    </tr>\n",
              "    <tr>\n",
              "      <th>11</th>\n",
              "      <td>550690489008394241</td>\n",
              "      <td>AMZN</td>\n",
              "      <td>IBDinvestors</td>\n",
              "      <td>1420129818</td>\n",
              "      <td>2015 technology forecasts: Wearable technology...</td>\n",
              "      <td>0</td>\n",
              "      <td>8</td>\n",
              "      <td>11</td>\n",
              "      <td>2015-01-01</td>\n",
              "    </tr>\n",
              "    <tr>\n",
              "      <th>...</th>\n",
              "      <td>...</td>\n",
              "      <td>...</td>\n",
              "      <td>...</td>\n",
              "      <td>...</td>\n",
              "      <td>...</td>\n",
              "      <td>...</td>\n",
              "      <td>...</td>\n",
              "      <td>...</td>\n",
              "      <td>...</td>\n",
              "    </tr>\n",
              "    <tr>\n",
              "      <th>718700</th>\n",
              "      <td>1212125517744353280</td>\n",
              "      <td>AMZN</td>\n",
              "      <td>stockstobuy</td>\n",
              "      <td>1577828218</td>\n",
              "      <td>My Top #Stocks for 2020 (S&amp;P @ 3231)Growth - S...</td>\n",
              "      <td>4</td>\n",
              "      <td>5</td>\n",
              "      <td>26</td>\n",
              "      <td>2019-12-31</td>\n",
              "    </tr>\n",
              "    <tr>\n",
              "      <th>718706</th>\n",
              "      <td>1212140828392640517</td>\n",
              "      <td>AMZN</td>\n",
              "      <td>patienttrading</td>\n",
              "      <td>1577831868</td>\n",
              "      <td>$AMZN skake out is over. MM’s tested supply la...</td>\n",
              "      <td>0</td>\n",
              "      <td>2</td>\n",
              "      <td>11</td>\n",
              "      <td>2019-12-31</td>\n",
              "    </tr>\n",
              "    <tr>\n",
              "      <th>718708</th>\n",
              "      <td>1212143562697183232</td>\n",
              "      <td>AMZN</td>\n",
              "      <td>iGlennSmith</td>\n",
              "      <td>1577832520</td>\n",
              "      <td>My biggest/dumbest investment is not what I di...</td>\n",
              "      <td>0</td>\n",
              "      <td>0</td>\n",
              "      <td>3</td>\n",
              "      <td>2019-12-31</td>\n",
              "    </tr>\n",
              "    <tr>\n",
              "      <th>718713</th>\n",
              "      <td>1212156775178416128</td>\n",
              "      <td>AMZN</td>\n",
              "      <td>ITRADEVOL</td>\n",
              "      <td>1577835670</td>\n",
              "      <td>Is there a public database or website where I ...</td>\n",
              "      <td>0</td>\n",
              "      <td>0</td>\n",
              "      <td>2</td>\n",
              "      <td>2019-12-31</td>\n",
              "    </tr>\n",
              "    <tr>\n",
              "      <th>718714</th>\n",
              "      <td>1212157688089591808</td>\n",
              "      <td>AMZN</td>\n",
              "      <td>NaN</td>\n",
              "      <td>1577835888</td>\n",
              "      <td>When you compare the losses of a public corpor...</td>\n",
              "      <td>0</td>\n",
              "      <td>0</td>\n",
              "      <td>2</td>\n",
              "      <td>2019-12-31</td>\n",
              "    </tr>\n",
              "  </tbody>\n",
              "</table>\n",
              "<p>111107 rows × 9 columns</p>\n",
              "</div>"
            ],
            "text/plain": [
              "                   tweet_id ticker_symbol  ... like_num    day_date\n",
              "5        550739393812508673          AMZN  ...        2  2015-01-01\n",
              "8        550705849690116096          AMZN  ...        3  2015-01-01\n",
              "9        550704687469453314          AMZN  ...        2  2015-01-01\n",
              "10       550698244552925184          AMZN  ...        2  2015-01-01\n",
              "11       550690489008394241          AMZN  ...       11  2015-01-01\n",
              "...                     ...           ...  ...      ...         ...\n",
              "718700  1212125517744353280          AMZN  ...       26  2019-12-31\n",
              "718706  1212140828392640517          AMZN  ...       11  2019-12-31\n",
              "718708  1212143562697183232          AMZN  ...        3  2019-12-31\n",
              "718713  1212156775178416128          AMZN  ...        2  2019-12-31\n",
              "718714  1212157688089591808          AMZN  ...        2  2019-12-31\n",
              "\n",
              "[111107 rows x 9 columns]"
            ]
          },
          "metadata": {
            "tags": []
          },
          "execution_count": 16
        }
      ]
    },
    {
      "cell_type": "markdown",
      "metadata": {
        "id": "H959Z-i2gaq5"
      },
      "source": [
        "###Removing the unnecessary columns"
      ]
    },
    {
      "cell_type": "code",
      "metadata": {
        "id": "u7M4qLd7_If5",
        "colab": {
          "base_uri": "https://localhost:8080/",
          "height": 417
        },
        "outputId": "448fd114-fd70-4eec-8932-3195c1ffffab"
      },
      "source": [
        "tweets_by_date = amazon_tweets_influential.filter(['day_date', 'body'])\n",
        "tweets_by_date"
      ],
      "execution_count": 17,
      "outputs": [
        {
          "output_type": "execute_result",
          "data": {
            "text/html": [
              "<div>\n",
              "<style scoped>\n",
              "    .dataframe tbody tr th:only-of-type {\n",
              "        vertical-align: middle;\n",
              "    }\n",
              "\n",
              "    .dataframe tbody tr th {\n",
              "        vertical-align: top;\n",
              "    }\n",
              "\n",
              "    .dataframe thead th {\n",
              "        text-align: right;\n",
              "    }\n",
              "</style>\n",
              "<table border=\"1\" class=\"dataframe\">\n",
              "  <thead>\n",
              "    <tr style=\"text-align: right;\">\n",
              "      <th></th>\n",
              "      <th>day_date</th>\n",
              "      <th>body</th>\n",
              "    </tr>\n",
              "  </thead>\n",
              "  <tbody>\n",
              "    <tr>\n",
              "      <th>5</th>\n",
              "      <td>2015-01-01</td>\n",
              "      <td>A Value Stock, Or Neither? $AAPL $AMZN $FB $GO...</td>\n",
              "    </tr>\n",
              "    <tr>\n",
              "      <th>8</th>\n",
              "      <td>2015-01-01</td>\n",
              "      <td>IBD:2015 technology forecasts: Wearable techno...</td>\n",
              "    </tr>\n",
              "    <tr>\n",
              "      <th>9</th>\n",
              "      <td>2015-01-01</td>\n",
              "      <td>\"Safety used to mean gold, US treasuries, blue...</td>\n",
              "    </tr>\n",
              "    <tr>\n",
              "      <th>10</th>\n",
              "      <td>2015-01-01</td>\n",
              "      <td>2015 technology forecasts: Wearable technology...</td>\n",
              "    </tr>\n",
              "    <tr>\n",
              "      <th>11</th>\n",
              "      <td>2015-01-01</td>\n",
              "      <td>2015 technology forecasts: Wearable technology...</td>\n",
              "    </tr>\n",
              "    <tr>\n",
              "      <th>...</th>\n",
              "      <td>...</td>\n",
              "      <td>...</td>\n",
              "    </tr>\n",
              "    <tr>\n",
              "      <th>718700</th>\n",
              "      <td>2019-12-31</td>\n",
              "      <td>My Top #Stocks for 2020 (S&amp;P @ 3231)Growth - S...</td>\n",
              "    </tr>\n",
              "    <tr>\n",
              "      <th>718706</th>\n",
              "      <td>2019-12-31</td>\n",
              "      <td>$AMZN skake out is over. MM’s tested supply la...</td>\n",
              "    </tr>\n",
              "    <tr>\n",
              "      <th>718708</th>\n",
              "      <td>2019-12-31</td>\n",
              "      <td>My biggest/dumbest investment is not what I di...</td>\n",
              "    </tr>\n",
              "    <tr>\n",
              "      <th>718713</th>\n",
              "      <td>2019-12-31</td>\n",
              "      <td>Is there a public database or website where I ...</td>\n",
              "    </tr>\n",
              "    <tr>\n",
              "      <th>718714</th>\n",
              "      <td>2019-12-31</td>\n",
              "      <td>When you compare the losses of a public corpor...</td>\n",
              "    </tr>\n",
              "  </tbody>\n",
              "</table>\n",
              "<p>111107 rows × 2 columns</p>\n",
              "</div>"
            ],
            "text/plain": [
              "          day_date                                               body\n",
              "5       2015-01-01  A Value Stock, Or Neither? $AAPL $AMZN $FB $GO...\n",
              "8       2015-01-01  IBD:2015 technology forecasts: Wearable techno...\n",
              "9       2015-01-01  \"Safety used to mean gold, US treasuries, blue...\n",
              "10      2015-01-01  2015 technology forecasts: Wearable technology...\n",
              "11      2015-01-01  2015 technology forecasts: Wearable technology...\n",
              "...            ...                                                ...\n",
              "718700  2019-12-31  My Top #Stocks for 2020 (S&P @ 3231)Growth - S...\n",
              "718706  2019-12-31  $AMZN skake out is over. MM’s tested supply la...\n",
              "718708  2019-12-31  My biggest/dumbest investment is not what I di...\n",
              "718713  2019-12-31  Is there a public database or website where I ...\n",
              "718714  2019-12-31  When you compare the losses of a public corpor...\n",
              "\n",
              "[111107 rows x 2 columns]"
            ]
          },
          "metadata": {
            "tags": []
          },
          "execution_count": 17
        }
      ]
    },
    {
      "cell_type": "markdown",
      "metadata": {
        "id": "3S9NIr4Ngj4A"
      },
      "source": [
        "###Grouping the tweets by date"
      ]
    },
    {
      "cell_type": "code",
      "metadata": {
        "colab": {
          "base_uri": "https://localhost:8080/",
          "height": 417
        },
        "id": "WKnupcIV4MZ9",
        "outputId": "070caf95-44b1-40f6-81c0-3bf795483ffc"
      },
      "source": [
        "grouped_tweets = tweets_by_date.groupby(['day_date'])['body'].apply(lambda x: ','.join(x)).reset_index()\n",
        "grouped_tweets"
      ],
      "execution_count": 18,
      "outputs": [
        {
          "output_type": "execute_result",
          "data": {
            "text/html": [
              "<div>\n",
              "<style scoped>\n",
              "    .dataframe tbody tr th:only-of-type {\n",
              "        vertical-align: middle;\n",
              "    }\n",
              "\n",
              "    .dataframe tbody tr th {\n",
              "        vertical-align: top;\n",
              "    }\n",
              "\n",
              "    .dataframe thead th {\n",
              "        text-align: right;\n",
              "    }\n",
              "</style>\n",
              "<table border=\"1\" class=\"dataframe\">\n",
              "  <thead>\n",
              "    <tr style=\"text-align: right;\">\n",
              "      <th></th>\n",
              "      <th>day_date</th>\n",
              "      <th>body</th>\n",
              "    </tr>\n",
              "  </thead>\n",
              "  <tbody>\n",
              "    <tr>\n",
              "      <th>0</th>\n",
              "      <td>2015-01-01</td>\n",
              "      <td>A Value Stock, Or Neither? $AAPL $AMZN $FB $GO...</td>\n",
              "    </tr>\n",
              "    <tr>\n",
              "      <th>1</th>\n",
              "      <td>2015-01-02</td>\n",
              "      <td>“Safety used to mean gold, US treasuries, and ...</td>\n",
              "    </tr>\n",
              "    <tr>\n",
              "      <th>2</th>\n",
              "      <td>2015-01-03</td>\n",
              "      <td>What to expect from Apple in 2015 beyond its s...</td>\n",
              "    </tr>\n",
              "    <tr>\n",
              "      <th>3</th>\n",
              "      <td>2015-01-04</td>\n",
              "      <td>Bibliophiles Rejoice: BookBub Helps Readers Fi...</td>\n",
              "    </tr>\n",
              "    <tr>\n",
              "      <th>4</th>\n",
              "      <td>2015-01-05</td>\n",
              "      <td>Google, Yahoo! or Alibaba May Buy Takeover Tar...</td>\n",
              "    </tr>\n",
              "    <tr>\n",
              "      <th>...</th>\n",
              "      <td>...</td>\n",
              "      <td>...</td>\n",
              "    </tr>\n",
              "    <tr>\n",
              "      <th>1820</th>\n",
              "      <td>2019-12-27</td>\n",
              "      <td>Join us for Daily Powerful Watchlist, Swing &amp; ...</td>\n",
              "    </tr>\n",
              "    <tr>\n",
              "      <th>1821</th>\n",
              "      <td>2019-12-28</td>\n",
              "      <td>Past 10 years ...#1 $NFLX#2 $AMZN#3 $NVDA#4 $A...</td>\n",
              "    </tr>\n",
              "    <tr>\n",
              "      <th>1822</th>\n",
              "      <td>2019-12-29</td>\n",
              "      <td>SO VERY VERY CLOSE!. Market traders don't miss...</td>\n",
              "    </tr>\n",
              "    <tr>\n",
              "      <th>1823</th>\n",
              "      <td>2019-12-30</td>\n",
              "      <td>Little something to think about  $spy $aapl $s...</td>\n",
              "    </tr>\n",
              "    <tr>\n",
              "      <th>1824</th>\n",
              "      <td>2019-12-31</td>\n",
              "      <td>FANGMAN group of leading stocks had the larges...</td>\n",
              "    </tr>\n",
              "  </tbody>\n",
              "</table>\n",
              "<p>1825 rows × 2 columns</p>\n",
              "</div>"
            ],
            "text/plain": [
              "        day_date                                               body\n",
              "0     2015-01-01  A Value Stock, Or Neither? $AAPL $AMZN $FB $GO...\n",
              "1     2015-01-02  “Safety used to mean gold, US treasuries, and ...\n",
              "2     2015-01-03  What to expect from Apple in 2015 beyond its s...\n",
              "3     2015-01-04  Bibliophiles Rejoice: BookBub Helps Readers Fi...\n",
              "4     2015-01-05  Google, Yahoo! or Alibaba May Buy Takeover Tar...\n",
              "...          ...                                                ...\n",
              "1820  2019-12-27  Join us for Daily Powerful Watchlist, Swing & ...\n",
              "1821  2019-12-28  Past 10 years ...#1 $NFLX#2 $AMZN#3 $NVDA#4 $A...\n",
              "1822  2019-12-29  SO VERY VERY CLOSE!. Market traders don't miss...\n",
              "1823  2019-12-30  Little something to think about  $spy $aapl $s...\n",
              "1824  2019-12-31  FANGMAN group of leading stocks had the larges...\n",
              "\n",
              "[1825 rows x 2 columns]"
            ]
          },
          "metadata": {
            "tags": []
          },
          "execution_count": 18
        }
      ]
    },
    {
      "cell_type": "markdown",
      "metadata": {
        "id": "pnqA94chgsLF"
      },
      "source": [
        "### Using the date column as the index and sorting the tweets according to the date"
      ]
    },
    {
      "cell_type": "code",
      "metadata": {
        "colab": {
          "base_uri": "https://localhost:8080/",
          "height": 447
        },
        "id": "5wbQi48JCR9C",
        "outputId": "c71469e7-d13c-4a16-ffae-d5527dd3f299"
      },
      "source": [
        "grouped_tweets['day_date'] = pd.to_datetime(grouped_tweets.day_date,format='%Y-%m-%d')\n",
        "grouped_tweets.set_index('day_date', inplace= True)\n",
        "grouped_tweets = grouped_tweets.sort_index(ascending=True, axis=0)\n",
        "grouped_tweets"
      ],
      "execution_count": 19,
      "outputs": [
        {
          "output_type": "execute_result",
          "data": {
            "text/html": [
              "<div>\n",
              "<style scoped>\n",
              "    .dataframe tbody tr th:only-of-type {\n",
              "        vertical-align: middle;\n",
              "    }\n",
              "\n",
              "    .dataframe tbody tr th {\n",
              "        vertical-align: top;\n",
              "    }\n",
              "\n",
              "    .dataframe thead th {\n",
              "        text-align: right;\n",
              "    }\n",
              "</style>\n",
              "<table border=\"1\" class=\"dataframe\">\n",
              "  <thead>\n",
              "    <tr style=\"text-align: right;\">\n",
              "      <th></th>\n",
              "      <th>body</th>\n",
              "    </tr>\n",
              "    <tr>\n",
              "      <th>day_date</th>\n",
              "      <th></th>\n",
              "    </tr>\n",
              "  </thead>\n",
              "  <tbody>\n",
              "    <tr>\n",
              "      <th>2015-01-01</th>\n",
              "      <td>A Value Stock, Or Neither? $AAPL $AMZN $FB $GO...</td>\n",
              "    </tr>\n",
              "    <tr>\n",
              "      <th>2015-01-02</th>\n",
              "      <td>“Safety used to mean gold, US treasuries, and ...</td>\n",
              "    </tr>\n",
              "    <tr>\n",
              "      <th>2015-01-03</th>\n",
              "      <td>What to expect from Apple in 2015 beyond its s...</td>\n",
              "    </tr>\n",
              "    <tr>\n",
              "      <th>2015-01-04</th>\n",
              "      <td>Bibliophiles Rejoice: BookBub Helps Readers Fi...</td>\n",
              "    </tr>\n",
              "    <tr>\n",
              "      <th>2015-01-05</th>\n",
              "      <td>Google, Yahoo! or Alibaba May Buy Takeover Tar...</td>\n",
              "    </tr>\n",
              "    <tr>\n",
              "      <th>...</th>\n",
              "      <td>...</td>\n",
              "    </tr>\n",
              "    <tr>\n",
              "      <th>2019-12-27</th>\n",
              "      <td>Join us for Daily Powerful Watchlist, Swing &amp; ...</td>\n",
              "    </tr>\n",
              "    <tr>\n",
              "      <th>2019-12-28</th>\n",
              "      <td>Past 10 years ...#1 $NFLX#2 $AMZN#3 $NVDA#4 $A...</td>\n",
              "    </tr>\n",
              "    <tr>\n",
              "      <th>2019-12-29</th>\n",
              "      <td>SO VERY VERY CLOSE!. Market traders don't miss...</td>\n",
              "    </tr>\n",
              "    <tr>\n",
              "      <th>2019-12-30</th>\n",
              "      <td>Little something to think about  $spy $aapl $s...</td>\n",
              "    </tr>\n",
              "    <tr>\n",
              "      <th>2019-12-31</th>\n",
              "      <td>FANGMAN group of leading stocks had the larges...</td>\n",
              "    </tr>\n",
              "  </tbody>\n",
              "</table>\n",
              "<p>1825 rows × 1 columns</p>\n",
              "</div>"
            ],
            "text/plain": [
              "                                                         body\n",
              "day_date                                                     \n",
              "2015-01-01  A Value Stock, Or Neither? $AAPL $AMZN $FB $GO...\n",
              "2015-01-02  “Safety used to mean gold, US treasuries, and ...\n",
              "2015-01-03  What to expect from Apple in 2015 beyond its s...\n",
              "2015-01-04  Bibliophiles Rejoice: BookBub Helps Readers Fi...\n",
              "2015-01-05  Google, Yahoo! or Alibaba May Buy Takeover Tar...\n",
              "...                                                       ...\n",
              "2019-12-27  Join us for Daily Powerful Watchlist, Swing & ...\n",
              "2019-12-28  Past 10 years ...#1 $NFLX#2 $AMZN#3 $NVDA#4 $A...\n",
              "2019-12-29  SO VERY VERY CLOSE!. Market traders don't miss...\n",
              "2019-12-30  Little something to think about  $spy $aapl $s...\n",
              "2019-12-31  FANGMAN group of leading stocks had the larges...\n",
              "\n",
              "[1825 rows x 1 columns]"
            ]
          },
          "metadata": {
            "tags": []
          },
          "execution_count": 19
        }
      ]
    },
    {
      "cell_type": "markdown",
      "metadata": {
        "id": "sv6AGe8Tg8ZI"
      },
      "source": [
        "##Preprocessing the amazon stock dataset"
      ]
    },
    {
      "cell_type": "markdown",
      "metadata": {
        "id": "TG2L3nD2haY0"
      },
      "source": [
        "###Extracting the stock prices of amazon and sorting them according to the date"
      ]
    },
    {
      "cell_type": "code",
      "metadata": {
        "id": "cU5pxD6oFCtV"
      },
      "source": [
        "amazon_stock_prices = company_values.loc[company_values['ticker_symbol'] == 'AMZN'].sort_values(by=['day_date'])"
      ],
      "execution_count": 20,
      "outputs": []
    },
    {
      "cell_type": "markdown",
      "metadata": {
        "id": "arnRL9U1J3Ra"
      },
      "source": [
        "###Etracting the stock values of other nasdaq companies"
      ]
    },
    {
      "cell_type": "code",
      "metadata": {
        "id": "ZSApSQ-1dtuQ"
      },
      "source": [
        "apple_data = company_values.loc[company_values['ticker_symbol'] == 'AAPL'].sort_values(by=['day_date'])\n",
        "tesla_data = company_values.loc[company_values['ticker_symbol'] == 'TSLA'].sort_values(by=['day_date'])\n",
        "microsoft_data = company_values.loc[company_values['ticker_symbol'] == 'MSFT'].sort_values(by=['day_date'])\n",
        "google_data = company_values.loc[company_values['ticker_symbol'] == 'GOOG'].sort_values(by=['day_date'])"
      ],
      "execution_count": 21,
      "outputs": []
    },
    {
      "cell_type": "code",
      "metadata": {
        "id": "YVvtyNnjhvbI"
      },
      "source": [
        "apple_data = apple_data[(apple_data['day_date'] >= '2015-01-01')&(apple_data['day_date'] < '2020-01-01')].reset_index()\n",
        "tesla_data = tesla_data[(tesla_data['day_date'] >= '2015-01-01')&(tesla_data['day_date'] < '2020-01-01')].reset_index() \n",
        "microsoft_data = microsoft_data[(microsoft_data['day_date'] >= '2015-01-01')&(microsoft_data['day_date'] < '2020-01-01')].reset_index() \n",
        "google_data = google_data[(google_data['day_date'] >= '2015-01-01')&(google_data['day_date'] < '2020-01-01')].reset_index()  "
      ],
      "execution_count": 22,
      "outputs": []
    },
    {
      "cell_type": "markdown",
      "metadata": {
        "id": "P1dFzEWgh6tD"
      },
      "source": [
        "###Using the date as the index of the dataset"
      ]
    },
    {
      "cell_type": "code",
      "metadata": {
        "colab": {
          "base_uri": "https://localhost:8080/",
          "height": 447
        },
        "id": "FUq7VwMSiCrq",
        "outputId": "bf5d87b4-523a-4372-8039-3764c03c7a40"
      },
      "source": [
        "amazon_stock_prices['day_date'] = pd.to_datetime(amazon_stock_prices.day_date,format='%Y-%m-%d')\n",
        "amazon_stock_prices.index = amazon_stock_prices['day_date']\n",
        "amazon_stock_prices"
      ],
      "execution_count": 23,
      "outputs": [
        {
          "output_type": "execute_result",
          "data": {
            "text/html": [
              "<div>\n",
              "<style scoped>\n",
              "    .dataframe tbody tr th:only-of-type {\n",
              "        vertical-align: middle;\n",
              "    }\n",
              "\n",
              "    .dataframe tbody tr th {\n",
              "        vertical-align: top;\n",
              "    }\n",
              "\n",
              "    .dataframe thead th {\n",
              "        text-align: right;\n",
              "    }\n",
              "</style>\n",
              "<table border=\"1\" class=\"dataframe\">\n",
              "  <thead>\n",
              "    <tr style=\"text-align: right;\">\n",
              "      <th></th>\n",
              "      <th>ticker_symbol</th>\n",
              "      <th>day_date</th>\n",
              "      <th>close_value</th>\n",
              "      <th>volume</th>\n",
              "      <th>open_value</th>\n",
              "      <th>high_value</th>\n",
              "      <th>low_value</th>\n",
              "    </tr>\n",
              "    <tr>\n",
              "      <th>day_date</th>\n",
              "      <th></th>\n",
              "      <th></th>\n",
              "      <th></th>\n",
              "      <th></th>\n",
              "      <th></th>\n",
              "      <th></th>\n",
              "      <th></th>\n",
              "    </tr>\n",
              "  </thead>\n",
              "  <tbody>\n",
              "    <tr>\n",
              "      <th>2010-06-01</th>\n",
              "      <td>AMZN</td>\n",
              "      <td>2010-06-01</td>\n",
              "      <td>123.24</td>\n",
              "      <td>3650661</td>\n",
              "      <td>124.97</td>\n",
              "      <td>126.5720</td>\n",
              "      <td>123.0200</td>\n",
              "    </tr>\n",
              "    <tr>\n",
              "      <th>2010-06-02</th>\n",
              "      <td>AMZN</td>\n",
              "      <td>2010-06-02</td>\n",
              "      <td>126.31</td>\n",
              "      <td>4747192</td>\n",
              "      <td>124.02</td>\n",
              "      <td>126.4300</td>\n",
              "      <td>121.6500</td>\n",
              "    </tr>\n",
              "    <tr>\n",
              "      <th>2010-06-03</th>\n",
              "      <td>AMZN</td>\n",
              "      <td>2010-06-03</td>\n",
              "      <td>128.76</td>\n",
              "      <td>5272208</td>\n",
              "      <td>126.25</td>\n",
              "      <td>129.1500</td>\n",
              "      <td>124.8500</td>\n",
              "    </tr>\n",
              "    <tr>\n",
              "      <th>2010-06-04</th>\n",
              "      <td>AMZN</td>\n",
              "      <td>2010-06-04</td>\n",
              "      <td>122.77</td>\n",
              "      <td>5466912</td>\n",
              "      <td>126.33</td>\n",
              "      <td>128.2000</td>\n",
              "      <td>122.1800</td>\n",
              "    </tr>\n",
              "    <tr>\n",
              "      <th>2010-06-07</th>\n",
              "      <td>AMZN</td>\n",
              "      <td>2010-06-07</td>\n",
              "      <td>122.01</td>\n",
              "      <td>6558899</td>\n",
              "      <td>125.84</td>\n",
              "      <td>126.6060</td>\n",
              "      <td>121.6744</td>\n",
              "    </tr>\n",
              "    <tr>\n",
              "      <th>...</th>\n",
              "      <td>...</td>\n",
              "      <td>...</td>\n",
              "      <td>...</td>\n",
              "      <td>...</td>\n",
              "      <td>...</td>\n",
              "      <td>...</td>\n",
              "      <td>...</td>\n",
              "    </tr>\n",
              "    <tr>\n",
              "      <th>2020-05-22</th>\n",
              "      <td>AMZN</td>\n",
              "      <td>2020-05-22</td>\n",
              "      <td>2436.88</td>\n",
              "      <td>2867079</td>\n",
              "      <td>2455.01</td>\n",
              "      <td>2469.8500</td>\n",
              "      <td>2430.1300</td>\n",
              "    </tr>\n",
              "    <tr>\n",
              "      <th>2020-05-26</th>\n",
              "      <td>AMZN</td>\n",
              "      <td>2020-05-26</td>\n",
              "      <td>2421.86</td>\n",
              "      <td>3568153</td>\n",
              "      <td>2458.00</td>\n",
              "      <td>2462.0000</td>\n",
              "      <td>2414.0600</td>\n",
              "    </tr>\n",
              "    <tr>\n",
              "      <th>2020-05-27</th>\n",
              "      <td>AMZN</td>\n",
              "      <td>2020-05-27</td>\n",
              "      <td>2410.39</td>\n",
              "      <td>5056945</td>\n",
              "      <td>2404.99</td>\n",
              "      <td>2413.5800</td>\n",
              "      <td>2330.0000</td>\n",
              "    </tr>\n",
              "    <tr>\n",
              "      <th>2020-05-28</th>\n",
              "      <td>AMZN</td>\n",
              "      <td>2020-05-28</td>\n",
              "      <td>2401.10</td>\n",
              "      <td>3193136</td>\n",
              "      <td>2384.33</td>\n",
              "      <td>2436.9699</td>\n",
              "      <td>2378.2300</td>\n",
              "    </tr>\n",
              "    <tr>\n",
              "      <th>2020-05-29</th>\n",
              "      <td>AMZN</td>\n",
              "      <td>2020-05-29</td>\n",
              "      <td>2442.37</td>\n",
              "      <td>3529329</td>\n",
              "      <td>2415.94</td>\n",
              "      <td>2442.3700</td>\n",
              "      <td>2398.1973</td>\n",
              "    </tr>\n",
              "  </tbody>\n",
              "</table>\n",
              "<p>3085 rows × 7 columns</p>\n",
              "</div>"
            ],
            "text/plain": [
              "           ticker_symbol   day_date  ...  high_value  low_value\n",
              "day_date                             ...                       \n",
              "2010-06-01          AMZN 2010-06-01  ...    126.5720   123.0200\n",
              "2010-06-02          AMZN 2010-06-02  ...    126.4300   121.6500\n",
              "2010-06-03          AMZN 2010-06-03  ...    129.1500   124.8500\n",
              "2010-06-04          AMZN 2010-06-04  ...    128.2000   122.1800\n",
              "2010-06-07          AMZN 2010-06-07  ...    126.6060   121.6744\n",
              "...                  ...        ...  ...         ...        ...\n",
              "2020-05-22          AMZN 2020-05-22  ...   2469.8500  2430.1300\n",
              "2020-05-26          AMZN 2020-05-26  ...   2462.0000  2414.0600\n",
              "2020-05-27          AMZN 2020-05-27  ...   2413.5800  2330.0000\n",
              "2020-05-28          AMZN 2020-05-28  ...   2436.9699  2378.2300\n",
              "2020-05-29          AMZN 2020-05-29  ...   2442.3700  2398.1973\n",
              "\n",
              "[3085 rows x 7 columns]"
            ]
          },
          "metadata": {
            "tags": []
          },
          "execution_count": 23
        }
      ]
    },
    {
      "cell_type": "markdown",
      "metadata": {
        "id": "OmGVc8J2iJyT"
      },
      "source": [
        "###Plotting the closing value of stock prices on a graph"
      ]
    },
    {
      "cell_type": "code",
      "metadata": {
        "colab": {
          "base_uri": "https://localhost:8080/",
          "height": 501
        },
        "id": "uumuOKCt49L-",
        "outputId": "3f521779-45fc-4d90-bf75-539e3215090f"
      },
      "source": [
        "plt.figure(figsize=(16,8))\n",
        "plt.plot(amazon_stock_prices['close_value'], label='Close Price history')"
      ],
      "execution_count": 24,
      "outputs": [
        {
          "output_type": "execute_result",
          "data": {
            "text/plain": [
              "[<matplotlib.lines.Line2D at 0x7fdafe00d990>]"
            ]
          },
          "metadata": {
            "tags": []
          },
          "execution_count": 24
        },
        {
          "output_type": "display_data",
          "data": {
            "image/png": "[encoded data removed]",
            "text/plain": [
              "<Figure size 1152x576 with 1 Axes>"
            ]
          },
          "metadata": {
            "tags": [],
            "needs_background": "light"
          }
        }
      ]
    },
    {
      "cell_type": "markdown",
      "metadata": {
        "id": "8YphlDFqiZKK"
      },
      "source": [
        "## Working on the combined dataset of stock prices and tweets"
      ]
    },
    {
      "cell_type": "markdown",
      "metadata": {
        "id": "za1jJ6OfinB0"
      },
      "source": [
        "###Concatenation of the datasets stock_price and tweets"
      ]
    },
    {
      "cell_type": "code",
      "metadata": {
        "colab": {
          "base_uri": "https://localhost:8080/",
          "height": 447
        },
        "id": "qfIXUVxoFMgr",
        "outputId": "89963d4d-f091-414c-db96-8fd40ab89185"
      },
      "source": [
        "amazon_data = pd.concat([amazon_stock_prices, grouped_tweets], axis=1)\n",
        "amazon_data.dropna(axis=0, inplace=True)\n",
        "\n",
        "amazon_data"
      ],
      "execution_count": 25,
      "outputs": [
        {
          "output_type": "execute_result",
          "data": {
            "text/html": [
              "<div>\n",
              "<style scoped>\n",
              "    .dataframe tbody tr th:only-of-type {\n",
              "        vertical-align: middle;\n",
              "    }\n",
              "\n",
              "    .dataframe tbody tr th {\n",
              "        vertical-align: top;\n",
              "    }\n",
              "\n",
              "    .dataframe thead th {\n",
              "        text-align: right;\n",
              "    }\n",
              "</style>\n",
              "<table border=\"1\" class=\"dataframe\">\n",
              "  <thead>\n",
              "    <tr style=\"text-align: right;\">\n",
              "      <th></th>\n",
              "      <th>ticker_symbol</th>\n",
              "      <th>day_date</th>\n",
              "      <th>close_value</th>\n",
              "      <th>volume</th>\n",
              "      <th>open_value</th>\n",
              "      <th>high_value</th>\n",
              "      <th>low_value</th>\n",
              "      <th>body</th>\n",
              "    </tr>\n",
              "    <tr>\n",
              "      <th>day_date</th>\n",
              "      <th></th>\n",
              "      <th></th>\n",
              "      <th></th>\n",
              "      <th></th>\n",
              "      <th></th>\n",
              "      <th></th>\n",
              "      <th></th>\n",
              "      <th></th>\n",
              "    </tr>\n",
              "  </thead>\n",
              "  <tbody>\n",
              "    <tr>\n",
              "      <th>2015-01-01</th>\n",
              "      <td>AMZN</td>\n",
              "      <td>2015-01-01</td>\n",
              "      <td>310.35</td>\n",
              "      <td>2048676</td>\n",
              "      <td>311.55</td>\n",
              "      <td>312.98</td>\n",
              "      <td>310.0100</td>\n",
              "      <td>A Value Stock, Or Neither? $AAPL $AMZN $FB $GO...</td>\n",
              "    </tr>\n",
              "    <tr>\n",
              "      <th>2015-01-02</th>\n",
              "      <td>AMZN</td>\n",
              "      <td>2015-01-02</td>\n",
              "      <td>308.52</td>\n",
              "      <td>2785167</td>\n",
              "      <td>312.58</td>\n",
              "      <td>314.75</td>\n",
              "      <td>306.9601</td>\n",
              "      <td>“Safety used to mean gold, US treasuries, and ...</td>\n",
              "    </tr>\n",
              "    <tr>\n",
              "      <th>2015-01-03</th>\n",
              "      <td>AMZN</td>\n",
              "      <td>2015-01-03</td>\n",
              "      <td>308.52</td>\n",
              "      <td>2785167</td>\n",
              "      <td>312.58</td>\n",
              "      <td>314.75</td>\n",
              "      <td>306.9601</td>\n",
              "      <td>What to expect from Apple in 2015 beyond its s...</td>\n",
              "    </tr>\n",
              "    <tr>\n",
              "      <th>2015-01-04</th>\n",
              "      <td>AMZN</td>\n",
              "      <td>2015-01-04</td>\n",
              "      <td>308.52</td>\n",
              "      <td>2785167</td>\n",
              "      <td>312.58</td>\n",
              "      <td>314.75</td>\n",
              "      <td>306.9601</td>\n",
              "      <td>Bibliophiles Rejoice: BookBub Helps Readers Fi...</td>\n",
              "    </tr>\n",
              "    <tr>\n",
              "      <th>2015-01-05</th>\n",
              "      <td>AMZN</td>\n",
              "      <td>2015-01-05</td>\n",
              "      <td>302.19</td>\n",
              "      <td>2768215</td>\n",
              "      <td>307.01</td>\n",
              "      <td>308.38</td>\n",
              "      <td>300.8500</td>\n",
              "      <td>Google, Yahoo! or Alibaba May Buy Takeover Tar...</td>\n",
              "    </tr>\n",
              "    <tr>\n",
              "      <th>...</th>\n",
              "      <td>...</td>\n",
              "      <td>...</td>\n",
              "      <td>...</td>\n",
              "      <td>...</td>\n",
              "      <td>...</td>\n",
              "      <td>...</td>\n",
              "      <td>...</td>\n",
              "      <td>...</td>\n",
              "    </tr>\n",
              "    <tr>\n",
              "      <th>2019-12-27</th>\n",
              "      <td>AMZN</td>\n",
              "      <td>2019-12-27</td>\n",
              "      <td>1869.80</td>\n",
              "      <td>6188754</td>\n",
              "      <td>1882.92</td>\n",
              "      <td>1901.40</td>\n",
              "      <td>1866.0100</td>\n",
              "      <td>Join us for Daily Powerful Watchlist, Swing &amp; ...</td>\n",
              "    </tr>\n",
              "    <tr>\n",
              "      <th>2019-12-28</th>\n",
              "      <td>AMZN</td>\n",
              "      <td>2019-12-28</td>\n",
              "      <td>1869.80</td>\n",
              "      <td>6188754</td>\n",
              "      <td>1882.92</td>\n",
              "      <td>1901.40</td>\n",
              "      <td>1866.0100</td>\n",
              "      <td>Past 10 years ...#1 $NFLX#2 $AMZN#3 $NVDA#4 $A...</td>\n",
              "    </tr>\n",
              "    <tr>\n",
              "      <th>2019-12-29</th>\n",
              "      <td>AMZN</td>\n",
              "      <td>2019-12-29</td>\n",
              "      <td>1869.80</td>\n",
              "      <td>6188754</td>\n",
              "      <td>1882.92</td>\n",
              "      <td>1901.40</td>\n",
              "      <td>1866.0100</td>\n",
              "      <td>SO VERY VERY CLOSE!. Market traders don't miss...</td>\n",
              "    </tr>\n",
              "    <tr>\n",
              "      <th>2019-12-30</th>\n",
              "      <td>AMZN</td>\n",
              "      <td>2019-12-30</td>\n",
              "      <td>1846.89</td>\n",
              "      <td>3677306</td>\n",
              "      <td>1874.00</td>\n",
              "      <td>1884.00</td>\n",
              "      <td>1840.6200</td>\n",
              "      <td>Little something to think about  $spy $aapl $s...</td>\n",
              "    </tr>\n",
              "    <tr>\n",
              "      <th>2019-12-31</th>\n",
              "      <td>AMZN</td>\n",
              "      <td>2019-12-31</td>\n",
              "      <td>1847.84</td>\n",
              "      <td>2510380</td>\n",
              "      <td>1842.00</td>\n",
              "      <td>1853.26</td>\n",
              "      <td>1832.2300</td>\n",
              "      <td>FANGMAN group of leading stocks had the larges...</td>\n",
              "    </tr>\n",
              "  </tbody>\n",
              "</table>\n",
              "<p>1825 rows × 8 columns</p>\n",
              "</div>"
            ],
            "text/plain": [
              "           ticker_symbol  ...                                               body\n",
              "day_date                  ...                                                   \n",
              "2015-01-01          AMZN  ...  A Value Stock, Or Neither? $AAPL $AMZN $FB $GO...\n",
              "2015-01-02          AMZN  ...  “Safety used to mean gold, US treasuries, and ...\n",
              "2015-01-03          AMZN  ...  What to expect from Apple in 2015 beyond its s...\n",
              "2015-01-04          AMZN  ...  Bibliophiles Rejoice: BookBub Helps Readers Fi...\n",
              "2015-01-05          AMZN  ...  Google, Yahoo! or Alibaba May Buy Takeover Tar...\n",
              "...                  ...  ...                                                ...\n",
              "2019-12-27          AMZN  ...  Join us for Daily Powerful Watchlist, Swing & ...\n",
              "2019-12-28          AMZN  ...  Past 10 years ...#1 $NFLX#2 $AMZN#3 $NVDA#4 $A...\n",
              "2019-12-29          AMZN  ...  SO VERY VERY CLOSE!. Market traders don't miss...\n",
              "2019-12-30          AMZN  ...  Little something to think about  $spy $aapl $s...\n",
              "2019-12-31          AMZN  ...  FANGMAN group of leading stocks had the larges...\n",
              "\n",
              "[1825 rows x 8 columns]"
            ]
          },
          "metadata": {
            "tags": []
          },
          "execution_count": 25
        }
      ]
    },
    {
      "cell_type": "markdown",
      "metadata": {
        "id": "NSaHW_Bzi_EI"
      },
      "source": [
        "### Adding some useful columns for sentiment analysis of the tweets\n"
      ]
    },
    {
      "cell_type": "code",
      "metadata": {
        "colab": {
          "base_uri": "https://localhost:8080/",
          "height": 615
        },
        "id": "elONG1QvhoZn",
        "outputId": "585278a7-f31f-40d9-ec5a-58bbc0777c75"
      },
      "source": [
        "amazon_data['compound'] = ''\n",
        "amazon_data['negative'] = ''\n",
        "amazon_data['neutral'] = ''\n",
        "amazon_data['positive'] = ''\n",
        "amazon_data"
      ],
      "execution_count": 26,
      "outputs": [
        {
          "output_type": "execute_result",
          "data": {
            "text/html": [
              "<div>\n",
              "<style scoped>\n",
              "    .dataframe tbody tr th:only-of-type {\n",
              "        vertical-align: middle;\n",
              "    }\n",
              "\n",
              "    .dataframe tbody tr th {\n",
              "        vertical-align: top;\n",
              "    }\n",
              "\n",
              "    .dataframe thead th {\n",
              "        text-align: right;\n",
              "    }\n",
              "</style>\n",
              "<table border=\"1\" class=\"dataframe\">\n",
              "  <thead>\n",
              "    <tr style=\"text-align: right;\">\n",
              "      <th></th>\n",
              "      <th>ticker_symbol</th>\n",
              "      <th>day_date</th>\n",
              "      <th>close_value</th>\n",
              "      <th>volume</th>\n",
              "      <th>open_value</th>\n",
              "      <th>high_value</th>\n",
              "      <th>low_value</th>\n",
              "      <th>body</th>\n",
              "      <th>compound</th>\n",
              "      <th>negative</th>\n",
              "      <th>neutral</th>\n",
              "      <th>positive</th>\n",
              "    </tr>\n",
              "    <tr>\n",
              "      <th>day_date</th>\n",
              "      <th></th>\n",
              "      <th></th>\n",
              "      <th></th>\n",
              "      <th></th>\n",
              "      <th></th>\n",
              "      <th></th>\n",
              "      <th></th>\n",
              "      <th></th>\n",
              "      <th></th>\n",
              "      <th></th>\n",
              "      <th></th>\n",
              "      <th></th>\n",
              "    </tr>\n",
              "  </thead>\n",
              "  <tbody>\n",
              "    <tr>\n",
              "      <th>2015-01-01</th>\n",
              "      <td>AMZN</td>\n",
              "      <td>2015-01-01</td>\n",
              "      <td>310.35</td>\n",
              "      <td>2048676</td>\n",
              "      <td>311.55</td>\n",
              "      <td>312.98</td>\n",
              "      <td>310.0100</td>\n",
              "      <td>A Value Stock, Or Neither? $AAPL $AMZN $FB $GO...</td>\n",
              "      <td></td>\n",
              "      <td></td>\n",
              "      <td></td>\n",
              "      <td></td>\n",
              "    </tr>\n",
              "    <tr>\n",
              "      <th>2015-01-02</th>\n",
              "      <td>AMZN</td>\n",
              "      <td>2015-01-02</td>\n",
              "      <td>308.52</td>\n",
              "      <td>2785167</td>\n",
              "      <td>312.58</td>\n",
              "      <td>314.75</td>\n",
              "      <td>306.9601</td>\n",
              "      <td>“Safety used to mean gold, US treasuries, and ...</td>\n",
              "      <td></td>\n",
              "      <td></td>\n",
              "      <td></td>\n",
              "      <td></td>\n",
              "    </tr>\n",
              "    <tr>\n",
              "      <th>2015-01-03</th>\n",
              "      <td>AMZN</td>\n",
              "      <td>2015-01-03</td>\n",
              "      <td>308.52</td>\n",
              "      <td>2785167</td>\n",
              "      <td>312.58</td>\n",
              "      <td>314.75</td>\n",
              "      <td>306.9601</td>\n",
              "      <td>What to expect from Apple in 2015 beyond its s...</td>\n",
              "      <td></td>\n",
              "      <td></td>\n",
              "      <td></td>\n",
              "      <td></td>\n",
              "    </tr>\n",
              "    <tr>\n",
              "      <th>2015-01-04</th>\n",
              "      <td>AMZN</td>\n",
              "      <td>2015-01-04</td>\n",
              "      <td>308.52</td>\n",
              "      <td>2785167</td>\n",
              "      <td>312.58</td>\n",
              "      <td>314.75</td>\n",
              "      <td>306.9601</td>\n",
              "      <td>Bibliophiles Rejoice: BookBub Helps Readers Fi...</td>\n",
              "      <td></td>\n",
              "      <td></td>\n",
              "      <td></td>\n",
              "      <td></td>\n",
              "    </tr>\n",
              "    <tr>\n",
              "      <th>2015-01-05</th>\n",
              "      <td>AMZN</td>\n",
              "      <td>2015-01-05</td>\n",
              "      <td>302.19</td>\n",
              "      <td>2768215</td>\n",
              "      <td>307.01</td>\n",
              "      <td>308.38</td>\n",
              "      <td>300.8500</td>\n",
              "      <td>Google, Yahoo! or Alibaba May Buy Takeover Tar...</td>\n",
              "      <td></td>\n",
              "      <td></td>\n",
              "      <td></td>\n",
              "      <td></td>\n",
              "    </tr>\n",
              "    <tr>\n",
              "      <th>...</th>\n",
              "      <td>...</td>\n",
              "      <td>...</td>\n",
              "      <td>...</td>\n",
              "      <td>...</td>\n",
              "      <td>...</td>\n",
              "      <td>...</td>\n",
              "      <td>...</td>\n",
              "      <td>...</td>\n",
              "      <td>...</td>\n",
              "      <td>...</td>\n",
              "      <td>...</td>\n",
              "      <td>...</td>\n",
              "    </tr>\n",
              "    <tr>\n",
              "      <th>2019-12-27</th>\n",
              "      <td>AMZN</td>\n",
              "      <td>2019-12-27</td>\n",
              "      <td>1869.80</td>\n",
              "      <td>6188754</td>\n",
              "      <td>1882.92</td>\n",
              "      <td>1901.40</td>\n",
              "      <td>1866.0100</td>\n",
              "      <td>Join us for Daily Powerful Watchlist, Swing &amp; ...</td>\n",
              "      <td></td>\n",
              "      <td></td>\n",
              "      <td></td>\n",
              "      <td></td>\n",
              "    </tr>\n",
              "    <tr>\n",
              "      <th>2019-12-28</th>\n",
              "      <td>AMZN</td>\n",
              "      <td>2019-12-28</td>\n",
              "      <td>1869.80</td>\n",
              "      <td>6188754</td>\n",
              "      <td>1882.92</td>\n",
              "      <td>1901.40</td>\n",
              "      <td>1866.0100</td>\n",
              "      <td>Past 10 years ...#1 $NFLX#2 $AMZN#3 $NVDA#4 $A...</td>\n",
              "      <td></td>\n",
              "      <td></td>\n",
              "      <td></td>\n",
              "      <td></td>\n",
              "    </tr>\n",
              "    <tr>\n",
              "      <th>2019-12-29</th>\n",
              "      <td>AMZN</td>\n",
              "      <td>2019-12-29</td>\n",
              "      <td>1869.80</td>\n",
              "      <td>6188754</td>\n",
              "      <td>1882.92</td>\n",
              "      <td>1901.40</td>\n",
              "      <td>1866.0100</td>\n",
              "      <td>SO VERY VERY CLOSE!. Market traders don't miss...</td>\n",
              "      <td></td>\n",
              "      <td></td>\n",
              "      <td></td>\n",
              "      <td></td>\n",
              "    </tr>\n",
              "    <tr>\n",
              "      <th>2019-12-30</th>\n",
              "      <td>AMZN</td>\n",
              "      <td>2019-12-30</td>\n",
              "      <td>1846.89</td>\n",
              "      <td>3677306</td>\n",
              "      <td>1874.00</td>\n",
              "      <td>1884.00</td>\n",
              "      <td>1840.6200</td>\n",
              "      <td>Little something to think about  $spy $aapl $s...</td>\n",
              "      <td></td>\n",
              "      <td></td>\n",
              "      <td></td>\n",
              "      <td></td>\n",
              "    </tr>\n",
              "    <tr>\n",
              "      <th>2019-12-31</th>\n",
              "      <td>AMZN</td>\n",
              "      <td>2019-12-31</td>\n",
              "      <td>1847.84</td>\n",
              "      <td>2510380</td>\n",
              "      <td>1842.00</td>\n",
              "      <td>1853.26</td>\n",
              "      <td>1832.2300</td>\n",
              "      <td>FANGMAN group of leading stocks had the larges...</td>\n",
              "      <td></td>\n",
              "      <td></td>\n",
              "      <td></td>\n",
              "      <td></td>\n",
              "    </tr>\n",
              "  </tbody>\n",
              "</table>\n",
              "<p>1825 rows × 12 columns</p>\n",
              "</div>"
            ],
            "text/plain": [
              "           ticker_symbol   day_date  close_value  ...  negative  neutral  positive\n",
              "day_date                                          ...                             \n",
              "2015-01-01          AMZN 2015-01-01       310.35  ...                             \n",
              "2015-01-02          AMZN 2015-01-02       308.52  ...                             \n",
              "2015-01-03          AMZN 2015-01-03       308.52  ...                             \n",
              "2015-01-04          AMZN 2015-01-04       308.52  ...                             \n",
              "2015-01-05          AMZN 2015-01-05       302.19  ...                             \n",
              "...                  ...        ...          ...  ...       ...      ...       ...\n",
              "2019-12-27          AMZN 2019-12-27      1869.80  ...                             \n",
              "2019-12-28          AMZN 2019-12-28      1869.80  ...                             \n",
              "2019-12-29          AMZN 2019-12-29      1869.80  ...                             \n",
              "2019-12-30          AMZN 2019-12-30      1846.89  ...                             \n",
              "2019-12-31          AMZN 2019-12-31      1847.84  ...                             \n",
              "\n",
              "[1825 rows x 12 columns]"
            ]
          },
          "metadata": {
            "tags": []
          },
          "execution_count": 26
        }
      ]
    },
    {
      "cell_type": "markdown",
      "metadata": {
        "id": "g_Cwm9YbjTB5"
      },
      "source": [
        "### Sentiment analysis of the tweets using the nltk's built in Sentiment Analyzer"
      ]
    },
    {
      "cell_type": "code",
      "metadata": {
        "colab": {
          "base_uri": "https://localhost:8080/",
          "height": 686
        },
        "id": "gafRcf_9i5FM",
        "outputId": "070a805e-a8a7-42b0-a6a9-48148df4d8e8"
      },
      "source": [
        "from nltk.sentiment.vader import SentimentIntensityAnalyzer\n",
        "import unicodedata\n",
        "\n",
        "#Sentiment Analyzer\n",
        "sid = SentimentIntensityAnalyzer()\n",
        "print('Start calculating sentiment scores:')\n",
        "\n",
        "# amazon_data['compound'] = amazon_data['body'].apply(lambda x: sid.polarity_scores(x)['compound'])\n",
        "# print('Compound Done')\n",
        "amazon_data['negative'] = amazon_data['body'].apply(lambda x: sid.polarity_scores(x)['neg'])\n",
        "print('Negative Done')\n",
        "# amazon_data['neutral'] = amazon_data['body'].apply(lambda x: sid.polarity_scores(x)['neu'])\n",
        "# print('Neutral Done')\n",
        "amazon_data['positive'] = amazon_data['body'].apply(lambda x: sid.polarity_scores(x)['pos'])\n",
        "print('Positive Done')\n",
        "print('Stop')\n",
        "\n",
        "amazon_data"
      ],
      "execution_count": 27,
      "outputs": [
        {
          "output_type": "stream",
          "text": [
            "Start calculating sentiment scores:\n",
            "Negative Done\n",
            "Positive Done\n",
            "Stop\n"
          ],
          "name": "stdout"
        },
        {
          "output_type": "execute_result",
          "data": {
            "text/html": [
              "<div>\n",
              "<style scoped>\n",
              "    .dataframe tbody tr th:only-of-type {\n",
              "        vertical-align: middle;\n",
              "    }\n",
              "\n",
              "    .dataframe tbody tr th {\n",
              "        vertical-align: top;\n",
              "    }\n",
              "\n",
              "    .dataframe thead th {\n",
              "        text-align: right;\n",
              "    }\n",
              "</style>\n",
              "<table border=\"1\" class=\"dataframe\">\n",
              "  <thead>\n",
              "    <tr style=\"text-align: right;\">\n",
              "      <th></th>\n",
              "      <th>ticker_symbol</th>\n",
              "      <th>day_date</th>\n",
              "      <th>close_value</th>\n",
              "      <th>volume</th>\n",
              "      <th>open_value</th>\n",
              "      <th>high_value</th>\n",
              "      <th>low_value</th>\n",
              "      <th>body</th>\n",
              "      <th>compound</th>\n",
              "      <th>negative</th>\n",
              "      <th>neutral</th>\n",
              "      <th>positive</th>\n",
              "    </tr>\n",
              "    <tr>\n",
              "      <th>day_date</th>\n",
              "      <th></th>\n",
              "      <th></th>\n",
              "      <th></th>\n",
              "      <th></th>\n",
              "      <th></th>\n",
              "      <th></th>\n",
              "      <th></th>\n",
              "      <th></th>\n",
              "      <th></th>\n",
              "      <th></th>\n",
              "      <th></th>\n",
              "      <th></th>\n",
              "    </tr>\n",
              "  </thead>\n",
              "  <tbody>\n",
              "    <tr>\n",
              "      <th>2015-01-01</th>\n",
              "      <td>AMZN</td>\n",
              "      <td>2015-01-01</td>\n",
              "      <td>310.35</td>\n",
              "      <td>2048676</td>\n",
              "      <td>311.55</td>\n",
              "      <td>312.98</td>\n",
              "      <td>310.0100</td>\n",
              "      <td>A Value Stock, Or Neither? $AAPL $AMZN $FB $GO...</td>\n",
              "      <td></td>\n",
              "      <td>0.107</td>\n",
              "      <td></td>\n",
              "      <td>0.078</td>\n",
              "    </tr>\n",
              "    <tr>\n",
              "      <th>2015-01-02</th>\n",
              "      <td>AMZN</td>\n",
              "      <td>2015-01-02</td>\n",
              "      <td>308.52</td>\n",
              "      <td>2785167</td>\n",
              "      <td>312.58</td>\n",
              "      <td>314.75</td>\n",
              "      <td>306.9601</td>\n",
              "      <td>“Safety used to mean gold, US treasuries, and ...</td>\n",
              "      <td></td>\n",
              "      <td>0.039</td>\n",
              "      <td></td>\n",
              "      <td>0.117</td>\n",
              "    </tr>\n",
              "    <tr>\n",
              "      <th>2015-01-03</th>\n",
              "      <td>AMZN</td>\n",
              "      <td>2015-01-03</td>\n",
              "      <td>308.52</td>\n",
              "      <td>2785167</td>\n",
              "      <td>312.58</td>\n",
              "      <td>314.75</td>\n",
              "      <td>306.9601</td>\n",
              "      <td>What to expect from Apple in 2015 beyond its s...</td>\n",
              "      <td></td>\n",
              "      <td>0.096</td>\n",
              "      <td></td>\n",
              "      <td>0.073</td>\n",
              "    </tr>\n",
              "    <tr>\n",
              "      <th>2015-01-04</th>\n",
              "      <td>AMZN</td>\n",
              "      <td>2015-01-04</td>\n",
              "      <td>308.52</td>\n",
              "      <td>2785167</td>\n",
              "      <td>312.58</td>\n",
              "      <td>314.75</td>\n",
              "      <td>306.9601</td>\n",
              "      <td>Bibliophiles Rejoice: BookBub Helps Readers Fi...</td>\n",
              "      <td></td>\n",
              "      <td>0.016</td>\n",
              "      <td></td>\n",
              "      <td>0.141</td>\n",
              "    </tr>\n",
              "    <tr>\n",
              "      <th>2015-01-05</th>\n",
              "      <td>AMZN</td>\n",
              "      <td>2015-01-05</td>\n",
              "      <td>302.19</td>\n",
              "      <td>2768215</td>\n",
              "      <td>307.01</td>\n",
              "      <td>308.38</td>\n",
              "      <td>300.8500</td>\n",
              "      <td>Google, Yahoo! or Alibaba May Buy Takeover Tar...</td>\n",
              "      <td></td>\n",
              "      <td>0.020</td>\n",
              "      <td></td>\n",
              "      <td>0.078</td>\n",
              "    </tr>\n",
              "    <tr>\n",
              "      <th>...</th>\n",
              "      <td>...</td>\n",
              "      <td>...</td>\n",
              "      <td>...</td>\n",
              "      <td>...</td>\n",
              "      <td>...</td>\n",
              "      <td>...</td>\n",
              "      <td>...</td>\n",
              "      <td>...</td>\n",
              "      <td>...</td>\n",
              "      <td>...</td>\n",
              "      <td>...</td>\n",
              "      <td>...</td>\n",
              "    </tr>\n",
              "    <tr>\n",
              "      <th>2019-12-27</th>\n",
              "      <td>AMZN</td>\n",
              "      <td>2019-12-27</td>\n",
              "      <td>1869.80</td>\n",
              "      <td>6188754</td>\n",
              "      <td>1882.92</td>\n",
              "      <td>1901.40</td>\n",
              "      <td>1866.0100</td>\n",
              "      <td>Join us for Daily Powerful Watchlist, Swing &amp; ...</td>\n",
              "      <td></td>\n",
              "      <td>0.039</td>\n",
              "      <td></td>\n",
              "      <td>0.137</td>\n",
              "    </tr>\n",
              "    <tr>\n",
              "      <th>2019-12-28</th>\n",
              "      <td>AMZN</td>\n",
              "      <td>2019-12-28</td>\n",
              "      <td>1869.80</td>\n",
              "      <td>6188754</td>\n",
              "      <td>1882.92</td>\n",
              "      <td>1901.40</td>\n",
              "      <td>1866.0100</td>\n",
              "      <td>Past 10 years ...#1 $NFLX#2 $AMZN#3 $NVDA#4 $A...</td>\n",
              "      <td></td>\n",
              "      <td>0.027</td>\n",
              "      <td></td>\n",
              "      <td>0.073</td>\n",
              "    </tr>\n",
              "    <tr>\n",
              "      <th>2019-12-29</th>\n",
              "      <td>AMZN</td>\n",
              "      <td>2019-12-29</td>\n",
              "      <td>1869.80</td>\n",
              "      <td>6188754</td>\n",
              "      <td>1882.92</td>\n",
              "      <td>1901.40</td>\n",
              "      <td>1866.0100</td>\n",
              "      <td>SO VERY VERY CLOSE!. Market traders don't miss...</td>\n",
              "      <td></td>\n",
              "      <td>0.026</td>\n",
              "      <td></td>\n",
              "      <td>0.084</td>\n",
              "    </tr>\n",
              "    <tr>\n",
              "      <th>2019-12-30</th>\n",
              "      <td>AMZN</td>\n",
              "      <td>2019-12-30</td>\n",
              "      <td>1846.89</td>\n",
              "      <td>3677306</td>\n",
              "      <td>1874.00</td>\n",
              "      <td>1884.00</td>\n",
              "      <td>1840.6200</td>\n",
              "      <td>Little something to think about  $spy $aapl $s...</td>\n",
              "      <td></td>\n",
              "      <td>0.043</td>\n",
              "      <td></td>\n",
              "      <td>0.107</td>\n",
              "    </tr>\n",
              "    <tr>\n",
              "      <th>2019-12-31</th>\n",
              "      <td>AMZN</td>\n",
              "      <td>2019-12-31</td>\n",
              "      <td>1847.84</td>\n",
              "      <td>2510380</td>\n",
              "      <td>1842.00</td>\n",
              "      <td>1853.26</td>\n",
              "      <td>1832.2300</td>\n",
              "      <td>FANGMAN group of leading stocks had the larges...</td>\n",
              "      <td></td>\n",
              "      <td>0.033</td>\n",
              "      <td></td>\n",
              "      <td>0.110</td>\n",
              "    </tr>\n",
              "  </tbody>\n",
              "</table>\n",
              "<p>1825 rows × 12 columns</p>\n",
              "</div>"
            ],
            "text/plain": [
              "           ticker_symbol   day_date  close_value  ...  negative  neutral  positive\n",
              "day_date                                          ...                             \n",
              "2015-01-01          AMZN 2015-01-01       310.35  ...     0.107              0.078\n",
              "2015-01-02          AMZN 2015-01-02       308.52  ...     0.039              0.117\n",
              "2015-01-03          AMZN 2015-01-03       308.52  ...     0.096              0.073\n",
              "2015-01-04          AMZN 2015-01-04       308.52  ...     0.016              0.141\n",
              "2015-01-05          AMZN 2015-01-05       302.19  ...     0.020              0.078\n",
              "...                  ...        ...          ...  ...       ...      ...       ...\n",
              "2019-12-27          AMZN 2019-12-27      1869.80  ...     0.039              0.137\n",
              "2019-12-28          AMZN 2019-12-28      1869.80  ...     0.027              0.073\n",
              "2019-12-29          AMZN 2019-12-29      1869.80  ...     0.026              0.084\n",
              "2019-12-30          AMZN 2019-12-30      1846.89  ...     0.043              0.107\n",
              "2019-12-31          AMZN 2019-12-31      1847.84  ...     0.033              0.110\n",
              "\n",
              "[1825 rows x 12 columns]"
            ]
          },
          "metadata": {
            "tags": []
          },
          "execution_count": 27
        }
      ]
    },
    {
      "cell_type": "markdown",
      "metadata": {
        "id": "gHOw1b7Cj219"
      },
      "source": [
        "### Reviewing the dataset for any null or false entries"
      ]
    },
    {
      "cell_type": "code",
      "metadata": {
        "colab": {
          "base_uri": "https://localhost:8080/"
        },
        "id": "Jf0cflJz2r6p",
        "outputId": "0ba9e69f-b8cb-441c-b7fe-12bd39a837b1"
      },
      "source": [
        "amazon_data.info()"
      ],
      "execution_count": 28,
      "outputs": [
        {
          "output_type": "stream",
          "text": [
            "<class 'pandas.core.frame.DataFrame'>\n",
            "DatetimeIndex: 1825 entries, 2015-01-01 to 2019-12-31\n",
            "Data columns (total 12 columns):\n",
            " #   Column         Non-Null Count  Dtype         \n",
            "---  ------         --------------  -----         \n",
            " 0   ticker_symbol  1825 non-null   object        \n",
            " 1   day_date       1825 non-null   datetime64[ns]\n",
            " 2   close_value    1825 non-null   float64       \n",
            " 3   volume         1825 non-null   int64         \n",
            " 4   open_value     1825 non-null   float64       \n",
            " 5   high_value     1825 non-null   float64       \n",
            " 6   low_value      1825 non-null   float64       \n",
            " 7   body           1825 non-null   object        \n",
            " 8   compound       1825 non-null   object        \n",
            " 9   negative       1825 non-null   float64       \n",
            " 10  neutral        1825 non-null   object        \n",
            " 11  positive       1825 non-null   float64       \n",
            "dtypes: datetime64[ns](1), float64(6), int64(1), object(4)\n",
            "memory usage: 185.4+ KB\n"
          ],
          "name": "stdout"
        }
      ]
    },
    {
      "cell_type": "markdown",
      "metadata": {
        "id": "g6DhNbhMkegn"
      },
      "source": [
        "###Dropping out some unnecessary columns"
      ]
    },
    {
      "cell_type": "code",
      "metadata": {
        "id": "3iuinY9vA39t",
        "colab": {
          "base_uri": "https://localhost:8080/",
          "height": 447
        },
        "outputId": "f3d410fd-1514-4906-8437-d10b0567421f"
      },
      "source": [
        "amazon_data.drop(['body','ticker_symbol'], inplace=True, axis=1)\n",
        "amazon_data = amazon_data[['day_date','close_value', 'compound', 'negative', 'neutral', 'positive', 'open_value', 'high_value', 'low_value', 'volume']]\n",
        "amazon_data"
      ],
      "execution_count": 29,
      "outputs": [
        {
          "output_type": "execute_result",
          "data": {
            "text/html": [
              "<div>\n",
              "<style scoped>\n",
              "    .dataframe tbody tr th:only-of-type {\n",
              "        vertical-align: middle;\n",
              "    }\n",
              "\n",
              "    .dataframe tbody tr th {\n",
              "        vertical-align: top;\n",
              "    }\n",
              "\n",
              "    .dataframe thead th {\n",
              "        text-align: right;\n",
              "    }\n",
              "</style>\n",
              "<table border=\"1\" class=\"dataframe\">\n",
              "  <thead>\n",
              "    <tr style=\"text-align: right;\">\n",
              "      <th></th>\n",
              "      <th>day_date</th>\n",
              "      <th>close_value</th>\n",
              "      <th>compound</th>\n",
              "      <th>negative</th>\n",
              "      <th>neutral</th>\n",
              "      <th>positive</th>\n",
              "      <th>open_value</th>\n",
              "      <th>high_value</th>\n",
              "      <th>low_value</th>\n",
              "      <th>volume</th>\n",
              "    </tr>\n",
              "    <tr>\n",
              "      <th>day_date</th>\n",
              "      <th></th>\n",
              "      <th></th>\n",
              "      <th></th>\n",
              "      <th></th>\n",
              "      <th></th>\n",
              "      <th></th>\n",
              "      <th></th>\n",
              "      <th></th>\n",
              "      <th></th>\n",
              "      <th></th>\n",
              "    </tr>\n",
              "  </thead>\n",
              "  <tbody>\n",
              "    <tr>\n",
              "      <th>2015-01-01</th>\n",
              "      <td>2015-01-01</td>\n",
              "      <td>310.35</td>\n",
              "      <td></td>\n",
              "      <td>0.107</td>\n",
              "      <td></td>\n",
              "      <td>0.078</td>\n",
              "      <td>311.55</td>\n",
              "      <td>312.98</td>\n",
              "      <td>310.0100</td>\n",
              "      <td>2048676</td>\n",
              "    </tr>\n",
              "    <tr>\n",
              "      <th>2015-01-02</th>\n",
              "      <td>2015-01-02</td>\n",
              "      <td>308.52</td>\n",
              "      <td></td>\n",
              "      <td>0.039</td>\n",
              "      <td></td>\n",
              "      <td>0.117</td>\n",
              "      <td>312.58</td>\n",
              "      <td>314.75</td>\n",
              "      <td>306.9601</td>\n",
              "      <td>2785167</td>\n",
              "    </tr>\n",
              "    <tr>\n",
              "      <th>2015-01-03</th>\n",
              "      <td>2015-01-03</td>\n",
              "      <td>308.52</td>\n",
              "      <td></td>\n",
              "      <td>0.096</td>\n",
              "      <td></td>\n",
              "      <td>0.073</td>\n",
              "      <td>312.58</td>\n",
              "      <td>314.75</td>\n",
              "      <td>306.9601</td>\n",
              "      <td>2785167</td>\n",
              "    </tr>\n",
              "    <tr>\n",
              "      <th>2015-01-04</th>\n",
              "      <td>2015-01-04</td>\n",
              "      <td>308.52</td>\n",
              "      <td></td>\n",
              "      <td>0.016</td>\n",
              "      <td></td>\n",
              "      <td>0.141</td>\n",
              "      <td>312.58</td>\n",
              "      <td>314.75</td>\n",
              "      <td>306.9601</td>\n",
              "      <td>2785167</td>\n",
              "    </tr>\n",
              "    <tr>\n",
              "      <th>2015-01-05</th>\n",
              "      <td>2015-01-05</td>\n",
              "      <td>302.19</td>\n",
              "      <td></td>\n",
              "      <td>0.020</td>\n",
              "      <td></td>\n",
              "      <td>0.078</td>\n",
              "      <td>307.01</td>\n",
              "      <td>308.38</td>\n",
              "      <td>300.8500</td>\n",
              "      <td>2768215</td>\n",
              "    </tr>\n",
              "    <tr>\n",
              "      <th>...</th>\n",
              "      <td>...</td>\n",
              "      <td>...</td>\n",
              "      <td>...</td>\n",
              "      <td>...</td>\n",
              "      <td>...</td>\n",
              "      <td>...</td>\n",
              "      <td>...</td>\n",
              "      <td>...</td>\n",
              "      <td>...</td>\n",
              "      <td>...</td>\n",
              "    </tr>\n",
              "    <tr>\n",
              "      <th>2019-12-27</th>\n",
              "      <td>2019-12-27</td>\n",
              "      <td>1869.80</td>\n",
              "      <td></td>\n",
              "      <td>0.039</td>\n",
              "      <td></td>\n",
              "      <td>0.137</td>\n",
              "      <td>1882.92</td>\n",
              "      <td>1901.40</td>\n",
              "      <td>1866.0100</td>\n",
              "      <td>6188754</td>\n",
              "    </tr>\n",
              "    <tr>\n",
              "      <th>2019-12-28</th>\n",
              "      <td>2019-12-28</td>\n",
              "      <td>1869.80</td>\n",
              "      <td></td>\n",
              "      <td>0.027</td>\n",
              "      <td></td>\n",
              "      <td>0.073</td>\n",
              "      <td>1882.92</td>\n",
              "      <td>1901.40</td>\n",
              "      <td>1866.0100</td>\n",
              "      <td>6188754</td>\n",
              "    </tr>\n",
              "    <tr>\n",
              "      <th>2019-12-29</th>\n",
              "      <td>2019-12-29</td>\n",
              "      <td>1869.80</td>\n",
              "      <td></td>\n",
              "      <td>0.026</td>\n",
              "      <td></td>\n",
              "      <td>0.084</td>\n",
              "      <td>1882.92</td>\n",
              "      <td>1901.40</td>\n",
              "      <td>1866.0100</td>\n",
              "      <td>6188754</td>\n",
              "    </tr>\n",
              "    <tr>\n",
              "      <th>2019-12-30</th>\n",
              "      <td>2019-12-30</td>\n",
              "      <td>1846.89</td>\n",
              "      <td></td>\n",
              "      <td>0.043</td>\n",
              "      <td></td>\n",
              "      <td>0.107</td>\n",
              "      <td>1874.00</td>\n",
              "      <td>1884.00</td>\n",
              "      <td>1840.6200</td>\n",
              "      <td>3677306</td>\n",
              "    </tr>\n",
              "    <tr>\n",
              "      <th>2019-12-31</th>\n",
              "      <td>2019-12-31</td>\n",
              "      <td>1847.84</td>\n",
              "      <td></td>\n",
              "      <td>0.033</td>\n",
              "      <td></td>\n",
              "      <td>0.110</td>\n",
              "      <td>1842.00</td>\n",
              "      <td>1853.26</td>\n",
              "      <td>1832.2300</td>\n",
              "      <td>2510380</td>\n",
              "    </tr>\n",
              "  </tbody>\n",
              "</table>\n",
              "<p>1825 rows × 10 columns</p>\n",
              "</div>"
            ],
            "text/plain": [
              "             day_date  close_value compound  ...  high_value  low_value   volume\n",
              "day_date                                     ...                                \n",
              "2015-01-01 2015-01-01       310.35           ...      312.98   310.0100  2048676\n",
              "2015-01-02 2015-01-02       308.52           ...      314.75   306.9601  2785167\n",
              "2015-01-03 2015-01-03       308.52           ...      314.75   306.9601  2785167\n",
              "2015-01-04 2015-01-04       308.52           ...      314.75   306.9601  2785167\n",
              "2015-01-05 2015-01-05       302.19           ...      308.38   300.8500  2768215\n",
              "...               ...          ...      ...  ...         ...        ...      ...\n",
              "2019-12-27 2019-12-27      1869.80           ...     1901.40  1866.0100  6188754\n",
              "2019-12-28 2019-12-28      1869.80           ...     1901.40  1866.0100  6188754\n",
              "2019-12-29 2019-12-29      1869.80           ...     1901.40  1866.0100  6188754\n",
              "2019-12-30 2019-12-30      1846.89           ...     1884.00  1840.6200  3677306\n",
              "2019-12-31 2019-12-31      1847.84           ...     1853.26  1832.2300  2510380\n",
              "\n",
              "[1825 rows x 10 columns]"
            ]
          },
          "metadata": {
            "tags": []
          },
          "execution_count": 29
        }
      ]
    },
    {
      "cell_type": "markdown",
      "metadata": {
        "id": "fIP01T0Nk7f4"
      },
      "source": [
        "### Creating a new dataframe containing all the columns required to the model"
      ]
    },
    {
      "cell_type": "code",
      "metadata": {
        "id": "Fkr7BfjO6mWX"
      },
      "source": [
        "# new_data = pd.DataFrame(index=range(0,len(amazon_data)),columns=['Date', 'Close','Open','High','Low','Volume','Compound'])\n",
        "new_data = pd.DataFrame(index=range(0,len(amazon_data)),columns=['Date', 'Close','Negative','Positive','Volume','apple','tesla','microsoft','google'])\n",
        "for i in range(0,len(amazon_data)):\n",
        "    new_data['Date'][i] = amazon_data['day_date'][i]\n",
        "    new_data['Close'][i] = amazon_data['close_value'][i]\n",
        "    # new_data['Compound'][i] = amazon_data['compound'][i]\n",
        "    new_data['Positive'][i] = amazon_data['positive'][i]\n",
        "    new_data['Negative'][i] = amazon_data['negative'][i]\n",
        "    # new_data['Open'][i] = amazon_data['open_value'][i]\n",
        "    # new_data['High'][i] = amazon_data['high_value'][i]\n",
        "    # new_data['Low'][i] = amazon_data['low_value'][i]\n",
        "    new_data['Volume'][i] = amazon_data['volume'][i]\n",
        "    new_data['apple'][i] = apple_data['close_value'][i]\n",
        "    new_data['tesla'][i] = tesla_data['close_value'][i]\n",
        "    new_data['microsoft'][i] = microsoft_data['close_value'][i]\n",
        "    new_data['google'][i] = google_data['close_value'][i]"
      ],
      "execution_count": 30,
      "outputs": []
    },
    {
      "cell_type": "markdown",
      "metadata": {
        "id": "I0qNHu3kKZAy"
      },
      "source": [
        "###Calculating the change in stock prices of other companies and making them as a parameter for the input\n",
        "because the change in stock prices of other competitive companies might effect the stock price of amazon"
      ]
    },
    {
      "cell_type": "code",
      "metadata": {
        "id": "rCfpToEXhC5O"
      },
      "source": [
        "new_data['apple_change']=''\n",
        "new_data['tesla_change']=''\n",
        "new_data['microsoft_change']=''\n",
        "new_data['google_change']=''"
      ],
      "execution_count": 31,
      "outputs": []
    },
    {
      "cell_type": "code",
      "metadata": {
        "id": "WOdJU9t2hbCH"
      },
      "source": [
        "for i in range(1,len(new_data)):\n",
        "    new_data['apple_change'][i] = new_data['apple'][i]-new_data['apple'][i-1]\n",
        "    new_data['tesla_change'][i] = new_data['tesla'][i]-new_data['tesla'][i-1]\n",
        "    new_data['microsoft_change'][i] = new_data['microsoft'][i]-new_data['microsoft'][i-1]\n",
        "    new_data['google_change'][i] = new_data['google'][i]-new_data['google'][i-1]\n",
        "new_data['apple_change'][0] = new_data['apple_change'][1]\n",
        "new_data['tesla_change'][0] = new_data['tesla_change'][1]\n",
        "new_data['microsoft_change'][0] = new_data['microsoft_change'][1]\n",
        "new_data['google_change'][0] = new_data['google_change'][1]"
      ],
      "execution_count": 32,
      "outputs": []
    },
    {
      "cell_type": "markdown",
      "metadata": {
        "id": "rFKhzpiDk6bv"
      },
      "source": [
        "###Using the date as the index of the data"
      ]
    },
    {
      "cell_type": "code",
      "metadata": {
        "id": "ryJUzKhI9LxS",
        "colab": {
          "base_uri": "https://localhost:8080/",
          "height": 447
        },
        "outputId": "6428a83f-4476-4287-ce8d-ea8a6627a737"
      },
      "source": [
        "new_data.index = new_data.Date\n",
        "new_data.drop('Date', axis=1, inplace=True)\n",
        "new_data.drop('apple', axis=1, inplace=True)\n",
        "new_data.drop('tesla', axis=1, inplace=True)\n",
        "new_data.drop('microsoft', axis=1, inplace=True)\n",
        "new_data.drop('google', axis=1, inplace=True)\n",
        "new_data"
      ],
      "execution_count": 33,
      "outputs": [
        {
          "output_type": "execute_result",
          "data": {
            "text/html": [
              "<div>\n",
              "<style scoped>\n",
              "    .dataframe tbody tr th:only-of-type {\n",
              "        vertical-align: middle;\n",
              "    }\n",
              "\n",
              "    .dataframe tbody tr th {\n",
              "        vertical-align: top;\n",
              "    }\n",
              "\n",
              "    .dataframe thead th {\n",
              "        text-align: right;\n",
              "    }\n",
              "</style>\n",
              "<table border=\"1\" class=\"dataframe\">\n",
              "  <thead>\n",
              "    <tr style=\"text-align: right;\">\n",
              "      <th></th>\n",
              "      <th>Close</th>\n",
              "      <th>Negative</th>\n",
              "      <th>Positive</th>\n",
              "      <th>Volume</th>\n",
              "      <th>apple_change</th>\n",
              "      <th>tesla_change</th>\n",
              "      <th>microsoft_change</th>\n",
              "      <th>google_change</th>\n",
              "    </tr>\n",
              "    <tr>\n",
              "      <th>Date</th>\n",
              "      <th></th>\n",
              "      <th></th>\n",
              "      <th></th>\n",
              "      <th></th>\n",
              "      <th></th>\n",
              "      <th></th>\n",
              "      <th></th>\n",
              "      <th></th>\n",
              "    </tr>\n",
              "  </thead>\n",
              "  <tbody>\n",
              "    <tr>\n",
              "      <th>2015-01-01</th>\n",
              "      <td>310.35</td>\n",
              "      <td>0.107</td>\n",
              "      <td>0.078</td>\n",
              "      <td>2048676</td>\n",
              "      <td>-1.05</td>\n",
              "      <td>-3.1</td>\n",
              "      <td>0.31</td>\n",
              "      <td>-1.59</td>\n",
              "    </tr>\n",
              "    <tr>\n",
              "      <th>2015-01-02</th>\n",
              "      <td>308.52</td>\n",
              "      <td>0.039</td>\n",
              "      <td>0.117</td>\n",
              "      <td>2785167</td>\n",
              "      <td>-1.05</td>\n",
              "      <td>-3.1</td>\n",
              "      <td>0.31</td>\n",
              "      <td>-1.59</td>\n",
              "    </tr>\n",
              "    <tr>\n",
              "      <th>2015-01-03</th>\n",
              "      <td>308.52</td>\n",
              "      <td>0.096</td>\n",
              "      <td>0.073</td>\n",
              "      <td>2785167</td>\n",
              "      <td>0</td>\n",
              "      <td>0</td>\n",
              "      <td>0</td>\n",
              "      <td>0</td>\n",
              "    </tr>\n",
              "    <tr>\n",
              "      <th>2015-01-04</th>\n",
              "      <td>308.52</td>\n",
              "      <td>0.016</td>\n",
              "      <td>0.141</td>\n",
              "      <td>2785167</td>\n",
              "      <td>0</td>\n",
              "      <td>0</td>\n",
              "      <td>0</td>\n",
              "      <td>0</td>\n",
              "    </tr>\n",
              "    <tr>\n",
              "      <th>2015-01-05</th>\n",
              "      <td>302.19</td>\n",
              "      <td>0.02</td>\n",
              "      <td>0.078</td>\n",
              "      <td>2768215</td>\n",
              "      <td>-3.08</td>\n",
              "      <td>-9.22</td>\n",
              "      <td>-0.435</td>\n",
              "      <td>-10.94</td>\n",
              "    </tr>\n",
              "    <tr>\n",
              "      <th>...</th>\n",
              "      <td>...</td>\n",
              "      <td>...</td>\n",
              "      <td>...</td>\n",
              "      <td>...</td>\n",
              "      <td>...</td>\n",
              "      <td>...</td>\n",
              "      <td>...</td>\n",
              "      <td>...</td>\n",
              "    </tr>\n",
              "    <tr>\n",
              "      <th>2019-12-27</th>\n",
              "      <td>1869.8</td>\n",
              "      <td>0.039</td>\n",
              "      <td>0.137</td>\n",
              "      <td>6188754</td>\n",
              "      <td>5.64</td>\n",
              "      <td>5.69</td>\n",
              "      <td>1.29</td>\n",
              "      <td>16.84</td>\n",
              "    </tr>\n",
              "    <tr>\n",
              "      <th>2019-12-28</th>\n",
              "      <td>1869.8</td>\n",
              "      <td>0.027</td>\n",
              "      <td>0.073</td>\n",
              "      <td>6188754</td>\n",
              "      <td>-0.11</td>\n",
              "      <td>-0.56</td>\n",
              "      <td>0.29</td>\n",
              "      <td>-8.51</td>\n",
              "    </tr>\n",
              "    <tr>\n",
              "      <th>2019-12-29</th>\n",
              "      <td>1869.8</td>\n",
              "      <td>0.026</td>\n",
              "      <td>0.084</td>\n",
              "      <td>6188754</td>\n",
              "      <td>0</td>\n",
              "      <td>0</td>\n",
              "      <td>0</td>\n",
              "      <td>0</td>\n",
              "    </tr>\n",
              "    <tr>\n",
              "      <th>2019-12-30</th>\n",
              "      <td>1846.89</td>\n",
              "      <td>0.043</td>\n",
              "      <td>0.107</td>\n",
              "      <td>3677306</td>\n",
              "      <td>0</td>\n",
              "      <td>0</td>\n",
              "      <td>0</td>\n",
              "      <td>0</td>\n",
              "    </tr>\n",
              "    <tr>\n",
              "      <th>2019-12-31</th>\n",
              "      <td>1847.84</td>\n",
              "      <td>0.033</td>\n",
              "      <td>0.11</td>\n",
              "      <td>2510380</td>\n",
              "      <td>1.72</td>\n",
              "      <td>-15.68</td>\n",
              "      <td>-1.37</td>\n",
              "      <td>-15.75</td>\n",
              "    </tr>\n",
              "  </tbody>\n",
              "</table>\n",
              "<p>1825 rows × 8 columns</p>\n",
              "</div>"
            ],
            "text/plain": [
              "              Close Negative  ... microsoft_change google_change\n",
              "Date                          ...                               \n",
              "2015-01-01   310.35    0.107  ...             0.31         -1.59\n",
              "2015-01-02   308.52    0.039  ...             0.31         -1.59\n",
              "2015-01-03   308.52    0.096  ...                0             0\n",
              "2015-01-04   308.52    0.016  ...                0             0\n",
              "2015-01-05   302.19     0.02  ...           -0.435        -10.94\n",
              "...             ...      ...  ...              ...           ...\n",
              "2019-12-27   1869.8    0.039  ...             1.29         16.84\n",
              "2019-12-28   1869.8    0.027  ...             0.29         -8.51\n",
              "2019-12-29   1869.8    0.026  ...                0             0\n",
              "2019-12-30  1846.89    0.043  ...                0             0\n",
              "2019-12-31  1847.84    0.033  ...            -1.37        -15.75\n",
              "\n",
              "[1825 rows x 8 columns]"
            ]
          },
          "metadata": {
            "tags": []
          },
          "execution_count": 33
        }
      ]
    },
    {
      "cell_type": "markdown",
      "metadata": {
        "id": "KuI_WrSPlRcv"
      },
      "source": [
        "###Preprocess data for training by removing all commas\n"
      ]
    },
    {
      "cell_type": "code",
      "metadata": {
        "id": "Pw85HckpH9-e"
      },
      "source": [
        "cols = list(new_data)[0:8]\n",
        " \n",
        "new_data = new_data[cols].astype(str)\n",
        "for i in cols:\n",
        "    for j in range(0,len(new_data)):\n",
        "        new_data[i][j] = new_data[i][j].replace(\",\",\"\")\n",
        " \n",
        "new_data = new_data.astype(float)"
      ],
      "execution_count": 34,
      "outputs": []
    },
    {
      "cell_type": "code",
      "metadata": {
        "id": "yLsFOVZe9zGs",
        "colab": {
          "base_uri": "https://localhost:8080/"
        },
        "outputId": "1245ba7b-09b4-4774-c017-830b7e759fc3"
      },
      "source": [
        "dataset = new_data.to_numpy() \n",
        "dataset"
      ],
      "execution_count": 35,
      "outputs": [
        {
          "output_type": "execute_result",
          "data": {
            "text/plain": [
              "array([[ 3.10350e+02,  1.07000e-01,  7.80000e-02, ..., -3.10000e+00,\n",
              "         3.10000e-01, -1.59000e+00],\n",
              "       [ 3.08520e+02,  3.90000e-02,  1.17000e-01, ..., -3.10000e+00,\n",
              "         3.10000e-01, -1.59000e+00],\n",
              "       [ 3.08520e+02,  9.60000e-02,  7.30000e-02, ...,  0.00000e+00,\n",
              "         0.00000e+00,  0.00000e+00],\n",
              "       ...,\n",
              "       [ 1.86980e+03,  2.60000e-02,  8.40000e-02, ...,  0.00000e+00,\n",
              "         0.00000e+00,  0.00000e+00],\n",
              "       [ 1.84689e+03,  4.30000e-02,  1.07000e-01, ...,  0.00000e+00,\n",
              "         0.00000e+00,  0.00000e+00],\n",
              "       [ 1.84784e+03,  3.30000e-02,  1.10000e-01, ..., -1.56800e+01,\n",
              "        -1.37000e+00, -1.57500e+01]])"
            ]
          },
          "metadata": {
            "tags": []
          },
          "execution_count": 35
        }
      ]
    },
    {
      "cell_type": "markdown",
      "metadata": {
        "id": "v9xV9a-elhtZ"
      },
      "source": [
        "###Splitting the dataset into training and validation set\n",
        "\n"
      ]
    },
    {
      "cell_type": "code",
      "metadata": {
        "id": "Uou6pOadtZHt"
      },
      "source": [
        "training_set = dataset[0:1600,:]\n",
        "validation_set = dataset[1600:,:]"
      ],
      "execution_count": 36,
      "outputs": []
    },
    {
      "cell_type": "markdown",
      "metadata": {
        "id": "8qz6HvFWlw0S"
      },
      "source": [
        "### Normalizing the columns of training set using MinMaxScaler from sklearn"
      ]
    },
    {
      "cell_type": "code",
      "metadata": {
        "colab": {
          "base_uri": "https://localhost:8080/"
        },
        "id": "YFZ3ZmVGu81o",
        "outputId": "a7de2778-1282-4ca4-f6c5-a0d78c33fdd4"
      },
      "source": [
        "sc = MinMaxScaler(feature_range=(0,1))\n",
        "training_set_scaled = sc.fit_transform(training_set)\n",
        "\n",
        "sc_predict = MinMaxScaler()                     #MinMaxScaler object for the output column(will be used later in the prediction)\n",
        "sc_predict.fit_transform(training_set[:,0:1])"
      ],
      "execution_count": 37,
      "outputs": [
        {
          "output_type": "execute_result",
          "data": {
            "text/plain": [
              "array([[0.0133519 ],\n",
              "       [0.01230771],\n",
              "       [0.01230771],\n",
              "       ...,\n",
              "       [0.90270804],\n",
              "       [0.90270804],\n",
              "       [0.89698498]])"
            ]
          },
          "metadata": {
            "tags": []
          },
          "execution_count": 37
        }
      ]
    },
    {
      "cell_type": "markdown",
      "metadata": {
        "id": "-j8OzRmXm4r1"
      },
      "source": [
        "###Transforming the data into the format accepted by the model"
      ]
    },
    {
      "cell_type": "code",
      "metadata": {
        "id": "2vYppH0Qvyzy"
      },
      "source": [
        "X_train =[]\n",
        "y_train = []\n",
        "\n",
        "n_future = 7  # Number of days you want to predict into the future\n",
        "n_past = 60  # Number of past days you want to use to predict the future\n",
        " \n",
        "for i in range(n_past, len(training_set_scaled) - n_future + 1):\n",
        "    X_train.append(training_set_scaled[i - n_past:i, :])\n",
        "    y_train.append(training_set_scaled[i+n_future-1:i + n_future, 0])\n",
        " \n",
        "X_train, y_train = np.array(X_train), np.array(y_train)\n",
        " \n",
        "# for i in range (60,len(training_set_scaled)):\n",
        "#     X_train.append(training_set_scaled[i-60:i, :])\n",
        "#     y_train.append(training_set_scaled[i, 0])\n",
        "# X_train, y_train = np.array(X_train) , np.array(y_train)"
      ],
      "execution_count": 38,
      "outputs": []
    },
    {
      "cell_type": "code",
      "metadata": {
        "colab": {
          "base_uri": "https://localhost:8080/"
        },
        "id": "tMkSQ3GpwbL7",
        "outputId": "57958649-d79b-458e-bf7c-3b07eab0f691"
      },
      "source": [
        "X_train"
      ],
      "execution_count": 39,
      "outputs": [
        {
          "output_type": "execute_result",
          "data": {
            "text/plain": [
              "array([[[0.0133519 , 0.70394737, 0.3362069 , ..., 0.44746667,\n",
              "         0.50472441, 0.50738891],\n",
              "        [0.01230771, 0.25657895, 0.50431034, ..., 0.44746667,\n",
              "         0.50472441, 0.50738891],\n",
              "        [0.01230771, 0.63157895, 0.31465517, ..., 0.48053333,\n",
              "         0.48031496, 0.5156624 ],\n",
              "        ...,\n",
              "        [0.05318506, 0.        , 0.23275862, ..., 0.43946667,\n",
              "         0.46417323, 0.53085649],\n",
              "        [0.05318506, 0.09210526, 0.08189655, ..., 0.48053333,\n",
              "         0.48031496, 0.5156624 ],\n",
              "        [0.05318506, 0.11842105, 0.125     , ..., 0.48053333,\n",
              "         0.48031496, 0.5156624 ]],\n",
              "\n",
              "       [[0.01230771, 0.25657895, 0.50431034, ..., 0.44746667,\n",
              "         0.50472441, 0.50738891],\n",
              "        [0.01230771, 0.63157895, 0.31465517, ..., 0.48053333,\n",
              "         0.48031496, 0.5156624 ],\n",
              "        [0.01230771, 0.10526316, 0.60775862, ..., 0.48053333,\n",
              "         0.48031496, 0.5156624 ],\n",
              "        ...,\n",
              "        [0.05318506, 0.09210526, 0.08189655, ..., 0.48053333,\n",
              "         0.48031496, 0.5156624 ],\n",
              "        [0.05318506, 0.11842105, 0.125     , ..., 0.48053333,\n",
              "         0.48031496, 0.5156624 ],\n",
              "        [0.05632047, 0.39473684, 0.46551724, ..., 0.41637333,\n",
              "         0.48267717, 0.58299511]],\n",
              "\n",
              "       [[0.01230771, 0.63157895, 0.31465517, ..., 0.48053333,\n",
              "         0.48031496, 0.5156624 ],\n",
              "        [0.01230771, 0.10526316, 0.60775862, ..., 0.48053333,\n",
              "         0.48031496, 0.5156624 ],\n",
              "        [0.00869585, 0.13157895, 0.3362069 , ..., 0.38218667,\n",
              "         0.44606299, 0.4587366 ],\n",
              "        ...,\n",
              "        [0.05318506, 0.11842105, 0.125     , ..., 0.48053333,\n",
              "         0.48031496, 0.5156624 ],\n",
              "        [0.05632047, 0.39473684, 0.46551724, ..., 0.41637333,\n",
              "         0.48267717, 0.58299511],\n",
              "        [0.0557242 , 0.03289474, 0.31465517, ..., 0.50437333,\n",
              "         0.43307087, 0.52763035]],\n",
              "\n",
              "       ...,\n",
              "\n",
              "       [[0.80103392, 0.23026316, 0.4612069 , ..., 0.39989333,\n",
              "         0.54251969, 0.60641066],\n",
              "        [0.79841489, 0.23026316, 0.375     , ..., 0.54026667,\n",
              "         0.5496063 , 0.51628681],\n",
              "        [0.81333021, 0.29605263, 0.49137931, ..., 0.4912    ,\n",
              "         0.48740157, 0.47523155],\n",
              "        ...,\n",
              "        [0.92032227, 0.29605263, 0.45258621, ..., 0.45685333,\n",
              "         0.47952756, 0.47491935],\n",
              "        [0.9146791 , 0.36184211, 0.34913793, ..., 0.45002667,\n",
              "         0.47952756, 0.49542096],\n",
              "        [0.9146791 , 0.36842105, 0.38793103, ..., 0.45429333,\n",
              "         0.60866142, 0.52549693]],\n",
              "\n",
              "       [[0.79841489, 0.23026316, 0.375     , ..., 0.54026667,\n",
              "         0.5496063 , 0.51628681],\n",
              "        [0.81333021, 0.29605263, 0.49137931, ..., 0.4912    ,\n",
              "         0.48740157, 0.47523155],\n",
              "        [0.81333021, 0.23684211, 0.50862069, ..., 0.32554667,\n",
              "         0.58425197, 0.50999063],\n",
              "        ...,\n",
              "        [0.9146791 , 0.36184211, 0.34913793, ..., 0.45002667,\n",
              "         0.47952756, 0.49542096],\n",
              "        [0.9146791 , 0.36842105, 0.38793103, ..., 0.45429333,\n",
              "         0.60866142, 0.52549693],\n",
              "        [0.9146791 , 0.15131579, 0.4612069 , ..., 0.48053333,\n",
              "         0.48031496, 0.5156624 ]],\n",
              "\n",
              "       [[0.81333021, 0.29605263, 0.49137931, ..., 0.4912    ,\n",
              "         0.48740157, 0.47523155],\n",
              "        [0.81333021, 0.23684211, 0.50862069, ..., 0.32554667,\n",
              "         0.58425197, 0.50999063],\n",
              "        [0.81333021, 0.27631579, 0.375     , ..., 0.48053333,\n",
              "         0.48031496, 0.5156624 ],\n",
              "        ...,\n",
              "        [0.9146791 , 0.36842105, 0.38793103, ..., 0.45429333,\n",
              "         0.60866142, 0.52549693],\n",
              "        [0.9146791 , 0.15131579, 0.4612069 , ..., 0.48053333,\n",
              "         0.48031496, 0.5156624 ],\n",
              "        [0.87627813, 0.24342105, 0.48706897, ..., 0.48053333,\n",
              "         0.48031496, 0.5156624 ]]])"
            ]
          },
          "metadata": {
            "tags": []
          },
          "execution_count": 39
        }
      ]
    },
    {
      "cell_type": "markdown",
      "metadata": {
        "id": "RUu3E-JYofuD"
      },
      "source": [
        "### Creating the input for the model for validation"
      ]
    },
    {
      "cell_type": "code",
      "metadata": {
        "id": "aTwznkkBMYh2",
        "colab": {
          "base_uri": "https://localhost:8080/"
        },
        "outputId": "9698353a-3cd0-49cc-d044-3571570dea70"
      },
      "source": [
        "inputs = new_data[len(new_data) - len(validation_set) - n_past:].to_numpy() \n",
        "inputs"
      ],
      "execution_count": 40,
      "outputs": [
        {
          "output_type": "execute_result",
          "data": {
            "text/plain": [
              "array([[ 1.76477e+03,  3.90000e-02,  9.20000e-02, ...,  4.20000e-01,\n",
              "         2.70000e+00,  7.57000e+00],\n",
              "       [ 1.76477e+03,  4.50000e-02,  6.10000e-02, ..., -9.49000e+00,\n",
              "        -3.17000e+00, -2.60400e+01],\n",
              "       [ 1.76477e+03,  6.60000e-02,  5.70000e-02, ...,  0.00000e+00,\n",
              "         0.00000e+00,  0.00000e+00],\n",
              "       ...,\n",
              "       [ 1.86980e+03,  2.60000e-02,  8.40000e-02, ...,  0.00000e+00,\n",
              "         0.00000e+00,  0.00000e+00],\n",
              "       [ 1.84689e+03,  4.30000e-02,  1.07000e-01, ...,  0.00000e+00,\n",
              "         0.00000e+00,  0.00000e+00],\n",
              "       [ 1.84784e+03,  3.30000e-02,  1.10000e-01, ..., -1.56800e+01,\n",
              "        -1.37000e+00, -1.57500e+01]])"
            ]
          },
          "metadata": {
            "tags": []
          },
          "execution_count": 40
        }
      ]
    },
    {
      "cell_type": "markdown",
      "metadata": {
        "id": "xkyrpTH2pX3q"
      },
      "source": [
        "### Transforming the input into the format accepted by the model"
      ]
    },
    {
      "cell_type": "code",
      "metadata": {
        "id": "HbOkX6Bl91hq"
      },
      "source": [
        "inputs  = sc.transform(inputs)\n",
        "\n",
        "X_test = []\n",
        "y_test=[]\n",
        "for i in range(n_past,len(inputs)-n_future+1):\n",
        "    X_test.append(inputs[i-n_past:i,:])\n",
        "    y_test.append(inputs[i+n_future-1:i + n_future, 0])\n",
        "X_test, y_test = np.array(X_test), np.array(y_test)"
      ],
      "execution_count": 41,
      "outputs": []
    },
    {
      "cell_type": "markdown",
      "metadata": {
        "id": "hCb1B-W8nQI6"
      },
      "source": [
        "### Creating the sequential LSTM model using keras"
      ]
    },
    {
      "cell_type": "code",
      "metadata": {
        "id": "XAri6fyWzhWa"
      },
      "source": [
        "from keras.models import Sequential\n",
        "from keras.layers import Dense\n",
        "from keras.layers import LSTM\n",
        "from keras.layers import Dropout\n",
        "from keras.layers import BatchNormalization\n",
        "from keras.layers import LeakyReLU"
      ],
      "execution_count": 42,
      "outputs": []
    },
    {
      "cell_type": "code",
      "metadata": {
        "id": "7lm0p18j83gM"
      },
      "source": [
        "model = Sequential()\n",
        "# model.add(LSTM(units=50, return_sequences=True, input_shape=(X_train.shape[1],1)))\n",
        "# model.add(LSTM(units=128, return_sequences=True, input_shape=(n_past,3),kernel_regularizer='l2'))\n",
        "model.add(LSTM(units=256, return_sequences=True, input_shape=(n_past,8)))\n",
        "model.add(Dropout(rate = 0.1))\n",
        "model.add(Dense(units=256))\n",
        "model.add(LeakyReLU())\n",
        "model.add(Dropout(rate = 0.1))\n",
        "model.add(LSTM(units=128))\n",
        "model.add(Dropout(rate = 0.1))\n",
        "model.add(Dense(1,activation='linear'))\n",
        "\n",
        "model.compile(loss='mean_squared_error', optimizer='adam')"
      ],
      "execution_count": 68,
      "outputs": []
    },
    {
      "cell_type": "code",
      "metadata": {
        "id": "fY22TWhGbyUj"
      },
      "source": [
        "from keras.callbacks import EarlyStopping, ReduceLROnPlateau, ModelCheckpoint, TensorBoard"
      ],
      "execution_count": 69,
      "outputs": []
    },
    {
      "cell_type": "markdown",
      "metadata": {
        "id": "6S07ejc3nfwN"
      },
      "source": [
        "### Training the model on our dataset"
      ]
    },
    {
      "cell_type": "code",
      "metadata": {
        "colab": {
          "base_uri": "https://localhost:8080/"
        },
        "id": "YL9WxLp1aDvF",
        "outputId": "06bb735e-83d0-47a9-c6e4-395462e62dce"
      },
      "source": [
        "es = EarlyStopping(monitor='val_loss', min_delta=1e-10, patience=10, verbose=1)\n",
        "rlr = ReduceLROnPlateau(monitor='val_loss', factor=0.5, patience=5, verbose=1)\n",
        "mcp = ModelCheckpoint(filepath='weights.h5', monitor='val_loss', verbose=1, save_best_only=True, save_weights_only=True)\n",
        "tb = TensorBoard('logs')\n",
        " \n",
        "history = model.fit(X_train, y_train, epochs=150,\n",
        "                        callbacks=[es, rlr,mcp, tb],validation_data=(X_test, y_test), verbose=1, batch_size=1)"
      ],
      "execution_count": 70,
      "outputs": [
        {
          "output_type": "stream",
          "text": [
            "Epoch 1/150\n",
            "1534/1534 [==============================] - 21s 12ms/step - loss: 0.0168 - val_loss: 0.0016\n",
            "\n",
            "Epoch 00001: val_loss improved from inf to 0.00155, saving model to weights.h5\n",
            "Epoch 2/150\n",
            "1534/1534 [==============================] - 16s 11ms/step - loss: 0.0029 - val_loss: 0.0022\n",
            "\n",
            "Epoch 00002: val_loss did not improve from 0.00155\n",
            "Epoch 3/150\n",
            "1534/1534 [==============================] - 17s 11ms/step - loss: 0.0023 - val_loss: 0.0017\n",
            "\n",
            "Epoch 00003: val_loss did not improve from 0.00155\n",
            "Epoch 4/150\n",
            "1534/1534 [==============================] - 17s 11ms/step - loss: 0.0028 - val_loss: 0.0014\n",
            "\n",
            "Epoch 00004: val_loss improved from 0.00155 to 0.00136, saving model to weights.h5\n",
            "Epoch 5/150\n",
            "1534/1534 [==============================] - 17s 11ms/step - loss: 0.0022 - val_loss: 0.0020\n",
            "\n",
            "Epoch 00005: val_loss did not improve from 0.00136\n",
            "Epoch 6/150\n",
            "1534/1534 [==============================] - 17s 11ms/step - loss: 0.0022 - val_loss: 0.0011\n",
            "\n",
            "Epoch 00006: val_loss improved from 0.00136 to 0.00105, saving model to weights.h5\n",
            "Epoch 7/150\n",
            "1534/1534 [==============================] - 17s 11ms/step - loss: 0.0018 - val_loss: 0.0036\n",
            "\n",
            "Epoch 00007: val_loss did not improve from 0.00105\n",
            "Epoch 8/150\n",
            "1534/1534 [==============================] - 16s 11ms/step - loss: 0.0019 - val_loss: 0.0032\n",
            "\n",
            "Epoch 00008: val_loss did not improve from 0.00105\n",
            "Epoch 9/150\n",
            "1534/1534 [==============================] - 17s 11ms/step - loss: 0.0018 - val_loss: 0.0011\n",
            "\n",
            "Epoch 00009: val_loss did not improve from 0.00105\n",
            "Epoch 10/150\n",
            "1534/1534 [==============================] - 16s 11ms/step - loss: 0.0019 - val_loss: 0.0017\n",
            "\n",
            "Epoch 00010: val_loss did not improve from 0.00105\n",
            "Epoch 11/150\n",
            "1534/1534 [==============================] - 17s 11ms/step - loss: 0.0023 - val_loss: 0.0018\n",
            "\n",
            "Epoch 00011: ReduceLROnPlateau reducing learning rate to 0.0005000000237487257.\n",
            "\n",
            "Epoch 00011: val_loss did not improve from 0.00105\n",
            "Epoch 12/150\n",
            "1534/1534 [==============================] - 17s 11ms/step - loss: 0.0014 - val_loss: 0.0012\n",
            "\n",
            "Epoch 00012: val_loss did not improve from 0.00105\n",
            "Epoch 13/150\n",
            "1534/1534 [==============================] - 17s 11ms/step - loss: 0.0012 - val_loss: 0.0024\n",
            "\n",
            "Epoch 00013: val_loss did not improve from 0.00105\n",
            "Epoch 14/150\n",
            "1534/1534 [==============================] - 17s 11ms/step - loss: 0.0012 - val_loss: 0.0011\n",
            "\n",
            "Epoch 00014: val_loss did not improve from 0.00105\n",
            "Epoch 15/150\n",
            "1534/1534 [==============================] - 16s 11ms/step - loss: 0.0013 - val_loss: 0.0016\n",
            "\n",
            "Epoch 00015: val_loss did not improve from 0.00105\n",
            "Epoch 16/150\n",
            "1534/1534 [==============================] - 16s 11ms/step - loss: 0.0012 - val_loss: 0.0010\n",
            "\n",
            "Epoch 00016: ReduceLROnPlateau reducing learning rate to 0.0002500000118743628.\n",
            "\n",
            "Epoch 00016: val_loss improved from 0.00105 to 0.00103, saving model to weights.h5\n",
            "Epoch 17/150\n",
            "1534/1534 [==============================] - 16s 11ms/step - loss: 0.0011 - val_loss: 0.0010\n",
            "\n",
            "Epoch 00017: val_loss did not improve from 0.00103\n",
            "Epoch 18/150\n",
            "1534/1534 [==============================] - 16s 11ms/step - loss: 0.0010 - val_loss: 0.0012\n",
            "\n",
            "Epoch 00018: val_loss did not improve from 0.00103\n",
            "Epoch 19/150\n",
            "1534/1534 [==============================] - 17s 11ms/step - loss: 0.0011 - val_loss: 0.0017\n",
            "\n",
            "Epoch 00019: val_loss did not improve from 0.00103\n",
            "Epoch 20/150\n",
            "1534/1534 [==============================] - 17s 11ms/step - loss: 8.9815e-04 - val_loss: 0.0016\n",
            "\n",
            "Epoch 00020: val_loss did not improve from 0.00103\n",
            "Epoch 21/150\n",
            "1534/1534 [==============================] - 16s 11ms/step - loss: 9.0935e-04 - val_loss: 0.0024\n",
            "\n",
            "Epoch 00021: ReduceLROnPlateau reducing learning rate to 0.0001250000059371814.\n",
            "\n",
            "Epoch 00021: val_loss did not improve from 0.00103\n",
            "Epoch 22/150\n",
            "1534/1534 [==============================] - 16s 11ms/step - loss: 8.9430e-04 - val_loss: 0.0017\n",
            "\n",
            "Epoch 00022: val_loss did not improve from 0.00103\n",
            "Epoch 23/150\n",
            "1534/1534 [==============================] - 16s 11ms/step - loss: 8.5308e-04 - val_loss: 9.9971e-04\n",
            "\n",
            "Epoch 00023: val_loss improved from 0.00103 to 0.00100, saving model to weights.h5\n",
            "Epoch 24/150\n",
            "1534/1534 [==============================] - 17s 11ms/step - loss: 9.6490e-04 - val_loss: 0.0013\n",
            "\n",
            "Epoch 00024: val_loss did not improve from 0.00100\n",
            "Epoch 25/150\n",
            "1534/1534 [==============================] - 17s 11ms/step - loss: 0.0010 - val_loss: 0.0011\n",
            "\n",
            "Epoch 00025: val_loss did not improve from 0.00100\n",
            "Epoch 26/150\n",
            "1534/1534 [==============================] - 17s 11ms/step - loss: 8.8086e-04 - val_loss: 0.0010\n",
            "\n",
            "Epoch 00026: ReduceLROnPlateau reducing learning rate to 6.25000029685907e-05.\n",
            "\n",
            "Epoch 00026: val_loss did not improve from 0.00100\n",
            "Epoch 27/150\n",
            "1534/1534 [==============================] - 17s 11ms/step - loss: 6.6583e-04 - val_loss: 0.0010\n",
            "\n",
            "Epoch 00027: val_loss did not improve from 0.00100\n",
            "Epoch 28/150\n",
            "1534/1534 [==============================] - 18s 11ms/step - loss: 8.2358e-04 - val_loss: 0.0012\n",
            "\n",
            "Epoch 00028: val_loss did not improve from 0.00100\n",
            "Epoch 29/150\n",
            "1534/1534 [==============================] - 18s 11ms/step - loss: 8.3778e-04 - val_loss: 0.0012\n",
            "\n",
            "Epoch 00029: val_loss did not improve from 0.00100\n",
            "Epoch 30/150\n",
            "1534/1534 [==============================] - 17s 11ms/step - loss: 7.0729e-04 - val_loss: 0.0012\n",
            "\n",
            "Epoch 00030: val_loss did not improve from 0.00100\n",
            "Epoch 31/150\n",
            "1534/1534 [==============================] - 17s 11ms/step - loss: 7.9974e-04 - val_loss: 0.0014\n",
            "\n",
            "Epoch 00031: ReduceLROnPlateau reducing learning rate to 3.125000148429535e-05.\n",
            "\n",
            "Epoch 00031: val_loss did not improve from 0.00100\n",
            "Epoch 32/150\n",
            "1534/1534 [==============================] - 16s 11ms/step - loss: 7.3284e-04 - val_loss: 0.0014\n",
            "\n",
            "Epoch 00032: val_loss did not improve from 0.00100\n",
            "Epoch 33/150\n",
            "1534/1534 [==============================] - 17s 11ms/step - loss: 6.6095e-04 - val_loss: 0.0011\n",
            "\n",
            "Epoch 00033: val_loss did not improve from 0.00100\n",
            "Epoch 00033: early stopping\n"
          ],
          "name": "stdout"
        }
      ]
    },
    {
      "cell_type": "markdown",
      "metadata": {
        "id": "174mr2IEpyJK"
      },
      "source": [
        "### Using the model to predict the closing values of the stock price"
      ]
    },
    {
      "cell_type": "code",
      "metadata": {
        "id": "Bi5d7w7LpvUL"
      },
      "source": [
        "predicted_price = model.predict(X_test)\n",
        "predicted_price = sc_predict.inverse_transform(predicted_price)"
      ],
      "execution_count": 71,
      "outputs": []
    },
    {
      "cell_type": "code",
      "metadata": {
        "id": "RHlvD7w9ure-"
      },
      "source": [
        "predicted_price_train = model.predict(X_train)\n",
        "predicted_price_train = sc_predict.inverse_transform(predicted_price_train)"
      ],
      "execution_count": 72,
      "outputs": []
    },
    {
      "cell_type": "markdown",
      "metadata": {
        "id": "kiyywPG5ptQ_"
      },
      "source": [
        "### Calculating the root mean squared percentage error between the actual price and the predicted price"
      ]
    },
    {
      "cell_type": "code",
      "metadata": {
        "id": "m7hJ0mT9Dmnw",
        "colab": {
          "base_uri": "https://localhost:8080/"
        },
        "outputId": "3cd58b1c-8f5c-45ee-df5e-40ea507684e8"
      },
      "source": [
        "rmspe=np.sqrt(np.mean(np.square((sc_predict.inverse_transform(y_test) - predicted_price)/sc_predict.inverse_transform(y_test))))*100\n",
        "rmspe"
      ],
      "execution_count": 73,
      "outputs": [
        {
          "output_type": "execute_result",
          "data": {
            "text/plain": [
              "3.303534606553015"
            ]
          },
          "metadata": {
            "tags": []
          },
          "execution_count": 73
        }
      ]
    },
    {
      "cell_type": "code",
      "metadata": {
        "colab": {
          "base_uri": "https://localhost:8080/"
        },
        "id": "UXNoX1dnvTjQ",
        "outputId": "7d5affc0-2d58-4dd6-af7d-ead450e9fa0e"
      },
      "source": [
        "rmspe_train = np.sqrt(np.mean(np.square((sc_predict.inverse_transform(y_train.reshape(-1,1)) - predicted_price_train)/sc_predict.inverse_transform(y_train.reshape(-1,1)))))*100\n",
        "rmspe_train"
      ],
      "execution_count": 74,
      "outputs": [
        {
          "output_type": "execute_result",
          "data": {
            "text/plain": [
              "3.620937174861304"
            ]
          },
          "metadata": {
            "tags": []
          },
          "execution_count": 74
        }
      ]
    },
    {
      "cell_type": "markdown",
      "metadata": {
        "id": "D7CjLMbPqP79"
      },
      "source": [
        "###Creating the dataframes of predicted prices and actual prices for the graph"
      ]
    },
    {
      "cell_type": "code",
      "metadata": {
        "id": "1G96Da41jSFU"
      },
      "source": [
        "valid = pd.DataFrame(index=range(1600+n_future-1,len(amazon_data)),columns=['Date', 'Close','Predictions'])\n",
        "for i in range(1600+n_future-1,len(amazon_data)):\n",
        "    valid['Date'][i] = amazon_data['day_date'][i]\n",
        "    valid['Close'][i] = amazon_data['close_value'][i]\n",
        "    valid['Predictions'][i] = predicted_price[i-(1600+n_future-1)][0]\n",
        "valid.index = valid.Date\n",
        "valid.drop('Date', axis=1, inplace=True)\n",
        "\n",
        "train = pd.DataFrame(index=range(n_past+n_future-1,1600),columns=['Date', 'Close','Predictions'])\n",
        "for i in range(n_past+n_future-1,1600):\n",
        "    train['Date'][i] = amazon_data['day_date'][i]\n",
        "    train['Close'][i] = amazon_data['close_value'][i]\n",
        "    train['Predictions'][i] = predicted_price_train[i-(n_past+n_future-1)][0]\n",
        "train.index = train.Date\n",
        "train.drop('Date', axis=1, inplace=True)"
      ],
      "execution_count": 75,
      "outputs": []
    },
    {
      "cell_type": "code",
      "metadata": {
        "colab": {
          "base_uri": "https://localhost:8080/",
          "height": 265
        },
        "id": "wzRwvtPyz0fP",
        "outputId": "7231a04b-a862-4335-afaa-e5f074515d29"
      },
      "source": [
        "train[100:106]"
      ],
      "execution_count": 83,
      "outputs": [
        {
          "output_type": "execute_result",
          "data": {
            "text/html": [
              "<div>\n",
              "<style scoped>\n",
              "    .dataframe tbody tr th:only-of-type {\n",
              "        vertical-align: middle;\n",
              "    }\n",
              "\n",
              "    .dataframe tbody tr th {\n",
              "        vertical-align: top;\n",
              "    }\n",
              "\n",
              "    .dataframe thead th {\n",
              "        text-align: right;\n",
              "    }\n",
              "</style>\n",
              "<table border=\"1\" class=\"dataframe\">\n",
              "  <thead>\n",
              "    <tr style=\"text-align: right;\">\n",
              "      <th></th>\n",
              "      <th>Close</th>\n",
              "      <th>Predictions</th>\n",
              "    </tr>\n",
              "    <tr>\n",
              "      <th>Date</th>\n",
              "      <th></th>\n",
              "      <th></th>\n",
              "    </tr>\n",
              "  </thead>\n",
              "  <tbody>\n",
              "    <tr>\n",
              "      <th>2015-06-17</th>\n",
              "      <td>427.81</td>\n",
              "      <td>438.374</td>\n",
              "    </tr>\n",
              "    <tr>\n",
              "      <th>2015-06-18</th>\n",
              "      <td>439.39</td>\n",
              "      <td>451.596</td>\n",
              "    </tr>\n",
              "    <tr>\n",
              "      <th>2015-06-19</th>\n",
              "      <td>434.92</td>\n",
              "      <td>443.914</td>\n",
              "    </tr>\n",
              "    <tr>\n",
              "      <th>2015-06-20</th>\n",
              "      <td>434.92</td>\n",
              "      <td>442.493</td>\n",
              "    </tr>\n",
              "    <tr>\n",
              "      <th>2015-06-21</th>\n",
              "      <td>434.92</td>\n",
              "      <td>440.816</td>\n",
              "    </tr>\n",
              "    <tr>\n",
              "      <th>2015-06-22</th>\n",
              "      <td>436.29</td>\n",
              "      <td>434.493</td>\n",
              "    </tr>\n",
              "  </tbody>\n",
              "</table>\n",
              "</div>"
            ],
            "text/plain": [
              "             Close Predictions\n",
              "Date                          \n",
              "2015-06-17  427.81     438.374\n",
              "2015-06-18  439.39     451.596\n",
              "2015-06-19  434.92     443.914\n",
              "2015-06-20  434.92     442.493\n",
              "2015-06-21  434.92     440.816\n",
              "2015-06-22  436.29     434.493"
            ]
          },
          "metadata": {
            "tags": []
          },
          "execution_count": 83
        }
      ]
    },
    {
      "cell_type": "code",
      "metadata": {
        "colab": {
          "base_uri": "https://localhost:8080/",
          "height": 265
        },
        "id": "k91X-uLPdfm7",
        "outputId": "7507f837-dea9-44b6-e5ab-74a60752e451"
      },
      "source": [
        "valid[38:44]"
      ],
      "execution_count": 82,
      "outputs": [
        {
          "output_type": "execute_result",
          "data": {
            "text/html": [
              "<div>\n",
              "<style scoped>\n",
              "    .dataframe tbody tr th:only-of-type {\n",
              "        vertical-align: middle;\n",
              "    }\n",
              "\n",
              "    .dataframe tbody tr th {\n",
              "        vertical-align: top;\n",
              "    }\n",
              "\n",
              "    .dataframe thead th {\n",
              "        text-align: right;\n",
              "    }\n",
              "</style>\n",
              "<table border=\"1\" class=\"dataframe\">\n",
              "  <thead>\n",
              "    <tr style=\"text-align: right;\">\n",
              "      <th></th>\n",
              "      <th>Close</th>\n",
              "      <th>Predictions</th>\n",
              "    </tr>\n",
              "    <tr>\n",
              "      <th>Date</th>\n",
              "      <th></th>\n",
              "      <th></th>\n",
              "    </tr>\n",
              "  </thead>\n",
              "  <tbody>\n",
              "    <tr>\n",
              "      <th>2019-07-04</th>\n",
              "      <td>1939</td>\n",
              "      <td>1916.07</td>\n",
              "    </tr>\n",
              "    <tr>\n",
              "      <th>2019-07-05</th>\n",
              "      <td>1942.91</td>\n",
              "      <td>1922.6</td>\n",
              "    </tr>\n",
              "    <tr>\n",
              "      <th>2019-07-06</th>\n",
              "      <td>1942.91</td>\n",
              "      <td>1943.36</td>\n",
              "    </tr>\n",
              "    <tr>\n",
              "      <th>2019-07-07</th>\n",
              "      <td>1942.91</td>\n",
              "      <td>1941.35</td>\n",
              "    </tr>\n",
              "    <tr>\n",
              "      <th>2019-07-08</th>\n",
              "      <td>1952.32</td>\n",
              "      <td>1953.02</td>\n",
              "    </tr>\n",
              "    <tr>\n",
              "      <th>2019-07-09</th>\n",
              "      <td>1988.3</td>\n",
              "      <td>1968.63</td>\n",
              "    </tr>\n",
              "  </tbody>\n",
              "</table>\n",
              "</div>"
            ],
            "text/plain": [
              "              Close Predictions\n",
              "Date                           \n",
              "2019-07-04     1939     1916.07\n",
              "2019-07-05  1942.91      1922.6\n",
              "2019-07-06  1942.91     1943.36\n",
              "2019-07-07  1942.91     1941.35\n",
              "2019-07-08  1952.32     1953.02\n",
              "2019-07-09   1988.3     1968.63"
            ]
          },
          "metadata": {
            "tags": []
          },
          "execution_count": 82
        }
      ]
    },
    {
      "cell_type": "markdown",
      "metadata": {
        "id": "gUup8E6wqeOH"
      },
      "source": [
        "### Plotting the predicted prices and the actual prices on a graph"
      ]
    },
    {
      "cell_type": "code",
      "metadata": {
        "id": "Jk_Z6VrDEBTr",
        "colab": {
          "base_uri": "https://localhost:8080/",
          "height": 682
        },
        "outputId": "e29ad744-8a42-4f80-af2d-6134555b4e12"
      },
      "source": [
        "plt.figure(figsize=(30,15))\n",
        "# plt.plot(train['Close'])\n",
        "plt.plot(train['Close'],label='Real closing price')\n",
        "plt.plot(train['Predictions'],label = 'Predicted closing price')\n",
        "plt.plot(valid['Close'],label='Real closing price')\n",
        "plt.plot(valid['Predictions'],label = 'Predicted closing price')\n",
        "plt.legend()\n",
        "plt.show()"
      ],
      "execution_count": 77,
      "outputs": [
        {
          "output_type": "display_data",
          "data": {
            "image/png": "[encoded data removed]",
            "text/plain": [
              "<Figure size 2160x1080 with 1 Axes>"
            ]
          },
          "metadata": {
            "tags": [],
            "needs_background": "light"
          }
        }
      ]
    },
    {
      "cell_type": "code",
      "metadata": {
        "colab": {
          "base_uri": "https://localhost:8080/",
          "height": 323
        },
        "id": "gVmCQfHPLqQa",
        "outputId": "0aa591b5-a56a-4651-e3ae-d8541bc86de2"
      },
      "source": [
        "plt.figure(figsize=(10,5))\n",
        "plt.plot(valid['Close'],label='Real closing price')\n",
        "plt.plot(valid['Predictions'],label = 'Predicted closing price')\n",
        "plt.legend()\n",
        "plt.show()"
      ],
      "execution_count": 78,
      "outputs": [
        {
          "output_type": "display_data",
          "data": {
            "image/png": "[encoded data removed]",
            "text/plain": [
              "<Figure size 720x360 with 1 Axes>"
            ]
          },
          "metadata": {
            "tags": [],
            "needs_background": "light"
          }
        }
      ]
    },
    {
      "cell_type": "code",
      "metadata": {
        "colab": {
          "base_uri": "https://localhost:8080/",
          "height": 483
        },
        "id": "FRhVxIk3Mq4v",
        "outputId": "73ed4ff0-d1c6-4af4-b7c9-f1eccea7f1ec"
      },
      "source": [
        "plt.figure(figsize=(16,8))\n",
        "# plt.plot(train['Close'])\n",
        "plt.plot(train['Close'],label='Real closing price')\n",
        "plt.plot(train['Predictions'],label = 'Predicted closing price')\n",
        "plt.plot(valid['Close'],label='Real closing price')\n",
        "plt.plot(valid['Predictions'],label = 'Predicted closing price')\n",
        "plt.legend()\n",
        "plt.show()"
      ],
      "execution_count": 79,
      "outputs": [
        {
          "output_type": "display_data",
          "data": {
            "image/png": "[encoded data removed]",
            "text/plain": [
              "<Figure size 1152x576 with 1 Axes>"
            ]
          },
          "metadata": {
            "tags": [],
            "needs_background": "light"
          }
        }
      ]
    }
  ]
}